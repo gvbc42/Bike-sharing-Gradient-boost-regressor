{
 "cells": [
  {
   "cell_type": "code",
   "execution_count": 1,
   "metadata": {},
   "outputs": [],
   "source": [
    "import numpy as np\n",
    "import pandas as pd\n",
    "import matplotlib.pyplot as plt\n",
    "import seaborn as sb"
   ]
  },
  {
   "cell_type": "code",
   "execution_count": 2,
   "metadata": {},
   "outputs": [
    {
     "data": {
      "text/html": [
       "<div>\n",
       "<style scoped>\n",
       "    .dataframe tbody tr th:only-of-type {\n",
       "        vertical-align: middle;\n",
       "    }\n",
       "\n",
       "    .dataframe tbody tr th {\n",
       "        vertical-align: top;\n",
       "    }\n",
       "\n",
       "    .dataframe thead th {\n",
       "        text-align: right;\n",
       "    }\n",
       "</style>\n",
       "<table border=\"1\" class=\"dataframe\">\n",
       "  <thead>\n",
       "    <tr style=\"text-align: right;\">\n",
       "      <th></th>\n",
       "      <th>dteday</th>\n",
       "      <th>season</th>\n",
       "      <th>yr</th>\n",
       "      <th>mnth</th>\n",
       "      <th>holiday</th>\n",
       "      <th>weekday</th>\n",
       "      <th>workingday</th>\n",
       "      <th>weathersit</th>\n",
       "      <th>temp</th>\n",
       "      <th>atemp</th>\n",
       "      <th>hum</th>\n",
       "      <th>windspeed</th>\n",
       "      <th>casual</th>\n",
       "      <th>registered</th>\n",
       "      <th>cnt</th>\n",
       "    </tr>\n",
       "    <tr>\n",
       "      <th>instant</th>\n",
       "      <th></th>\n",
       "      <th></th>\n",
       "      <th></th>\n",
       "      <th></th>\n",
       "      <th></th>\n",
       "      <th></th>\n",
       "      <th></th>\n",
       "      <th></th>\n",
       "      <th></th>\n",
       "      <th></th>\n",
       "      <th></th>\n",
       "      <th></th>\n",
       "      <th></th>\n",
       "      <th></th>\n",
       "      <th></th>\n",
       "    </tr>\n",
       "  </thead>\n",
       "  <tbody>\n",
       "    <tr>\n",
       "      <th>1</th>\n",
       "      <td>01-01-2018</td>\n",
       "      <td>1</td>\n",
       "      <td>0</td>\n",
       "      <td>1</td>\n",
       "      <td>0</td>\n",
       "      <td>6</td>\n",
       "      <td>0</td>\n",
       "      <td>2</td>\n",
       "      <td>14.110847</td>\n",
       "      <td>18.18125</td>\n",
       "      <td>80.5833</td>\n",
       "      <td>10.749882</td>\n",
       "      <td>331</td>\n",
       "      <td>654</td>\n",
       "      <td>985</td>\n",
       "    </tr>\n",
       "    <tr>\n",
       "      <th>2</th>\n",
       "      <td>02-01-2018</td>\n",
       "      <td>1</td>\n",
       "      <td>0</td>\n",
       "      <td>1</td>\n",
       "      <td>0</td>\n",
       "      <td>0</td>\n",
       "      <td>0</td>\n",
       "      <td>2</td>\n",
       "      <td>14.902598</td>\n",
       "      <td>17.68695</td>\n",
       "      <td>69.6087</td>\n",
       "      <td>16.652113</td>\n",
       "      <td>131</td>\n",
       "      <td>670</td>\n",
       "      <td>801</td>\n",
       "    </tr>\n",
       "    <tr>\n",
       "      <th>3</th>\n",
       "      <td>03-01-2018</td>\n",
       "      <td>1</td>\n",
       "      <td>0</td>\n",
       "      <td>1</td>\n",
       "      <td>0</td>\n",
       "      <td>1</td>\n",
       "      <td>1</td>\n",
       "      <td>1</td>\n",
       "      <td>8.050924</td>\n",
       "      <td>9.47025</td>\n",
       "      <td>43.7273</td>\n",
       "      <td>16.636703</td>\n",
       "      <td>120</td>\n",
       "      <td>1229</td>\n",
       "      <td>1349</td>\n",
       "    </tr>\n",
       "    <tr>\n",
       "      <th>4</th>\n",
       "      <td>04-01-2018</td>\n",
       "      <td>1</td>\n",
       "      <td>0</td>\n",
       "      <td>1</td>\n",
       "      <td>0</td>\n",
       "      <td>2</td>\n",
       "      <td>1</td>\n",
       "      <td>1</td>\n",
       "      <td>8.200000</td>\n",
       "      <td>10.60610</td>\n",
       "      <td>59.0435</td>\n",
       "      <td>10.739832</td>\n",
       "      <td>108</td>\n",
       "      <td>1454</td>\n",
       "      <td>1562</td>\n",
       "    </tr>\n",
       "    <tr>\n",
       "      <th>5</th>\n",
       "      <td>05-01-2018</td>\n",
       "      <td>1</td>\n",
       "      <td>0</td>\n",
       "      <td>1</td>\n",
       "      <td>0</td>\n",
       "      <td>3</td>\n",
       "      <td>1</td>\n",
       "      <td>1</td>\n",
       "      <td>9.305237</td>\n",
       "      <td>11.46350</td>\n",
       "      <td>43.6957</td>\n",
       "      <td>12.522300</td>\n",
       "      <td>82</td>\n",
       "      <td>1518</td>\n",
       "      <td>1600</td>\n",
       "    </tr>\n",
       "    <tr>\n",
       "      <th>...</th>\n",
       "      <td>...</td>\n",
       "      <td>...</td>\n",
       "      <td>...</td>\n",
       "      <td>...</td>\n",
       "      <td>...</td>\n",
       "      <td>...</td>\n",
       "      <td>...</td>\n",
       "      <td>...</td>\n",
       "      <td>...</td>\n",
       "      <td>...</td>\n",
       "      <td>...</td>\n",
       "      <td>...</td>\n",
       "      <td>...</td>\n",
       "      <td>...</td>\n",
       "      <td>...</td>\n",
       "    </tr>\n",
       "    <tr>\n",
       "      <th>726</th>\n",
       "      <td>27-12-2019</td>\n",
       "      <td>1</td>\n",
       "      <td>1</td>\n",
       "      <td>12</td>\n",
       "      <td>0</td>\n",
       "      <td>4</td>\n",
       "      <td>1</td>\n",
       "      <td>2</td>\n",
       "      <td>10.420847</td>\n",
       "      <td>11.33210</td>\n",
       "      <td>65.2917</td>\n",
       "      <td>23.458911</td>\n",
       "      <td>247</td>\n",
       "      <td>1867</td>\n",
       "      <td>2114</td>\n",
       "    </tr>\n",
       "    <tr>\n",
       "      <th>727</th>\n",
       "      <td>28-12-2019</td>\n",
       "      <td>1</td>\n",
       "      <td>1</td>\n",
       "      <td>12</td>\n",
       "      <td>0</td>\n",
       "      <td>5</td>\n",
       "      <td>1</td>\n",
       "      <td>2</td>\n",
       "      <td>10.386653</td>\n",
       "      <td>12.75230</td>\n",
       "      <td>59.0000</td>\n",
       "      <td>10.416557</td>\n",
       "      <td>644</td>\n",
       "      <td>2451</td>\n",
       "      <td>3095</td>\n",
       "    </tr>\n",
       "    <tr>\n",
       "      <th>728</th>\n",
       "      <td>29-12-2019</td>\n",
       "      <td>1</td>\n",
       "      <td>1</td>\n",
       "      <td>12</td>\n",
       "      <td>0</td>\n",
       "      <td>6</td>\n",
       "      <td>0</td>\n",
       "      <td>2</td>\n",
       "      <td>10.386653</td>\n",
       "      <td>12.12000</td>\n",
       "      <td>75.2917</td>\n",
       "      <td>8.333661</td>\n",
       "      <td>159</td>\n",
       "      <td>1182</td>\n",
       "      <td>1341</td>\n",
       "    </tr>\n",
       "    <tr>\n",
       "      <th>729</th>\n",
       "      <td>30-12-2019</td>\n",
       "      <td>1</td>\n",
       "      <td>1</td>\n",
       "      <td>12</td>\n",
       "      <td>0</td>\n",
       "      <td>0</td>\n",
       "      <td>0</td>\n",
       "      <td>1</td>\n",
       "      <td>10.489153</td>\n",
       "      <td>11.58500</td>\n",
       "      <td>48.3333</td>\n",
       "      <td>23.500518</td>\n",
       "      <td>364</td>\n",
       "      <td>1432</td>\n",
       "      <td>1796</td>\n",
       "    </tr>\n",
       "    <tr>\n",
       "      <th>730</th>\n",
       "      <td>31-12-2019</td>\n",
       "      <td>1</td>\n",
       "      <td>1</td>\n",
       "      <td>12</td>\n",
       "      <td>0</td>\n",
       "      <td>1</td>\n",
       "      <td>1</td>\n",
       "      <td>2</td>\n",
       "      <td>8.849153</td>\n",
       "      <td>11.17435</td>\n",
       "      <td>57.7500</td>\n",
       "      <td>10.374682</td>\n",
       "      <td>439</td>\n",
       "      <td>2290</td>\n",
       "      <td>2729</td>\n",
       "    </tr>\n",
       "  </tbody>\n",
       "</table>\n",
       "<p>730 rows × 15 columns</p>\n",
       "</div>"
      ],
      "text/plain": [
       "             dteday  season  yr  mnth  holiday  weekday  workingday  \\\n",
       "instant                                                               \n",
       "1        01-01-2018       1   0     1        0        6           0   \n",
       "2        02-01-2018       1   0     1        0        0           0   \n",
       "3        03-01-2018       1   0     1        0        1           1   \n",
       "4        04-01-2018       1   0     1        0        2           1   \n",
       "5        05-01-2018       1   0     1        0        3           1   \n",
       "...             ...     ...  ..   ...      ...      ...         ...   \n",
       "726      27-12-2019       1   1    12        0        4           1   \n",
       "727      28-12-2019       1   1    12        0        5           1   \n",
       "728      29-12-2019       1   1    12        0        6           0   \n",
       "729      30-12-2019       1   1    12        0        0           0   \n",
       "730      31-12-2019       1   1    12        0        1           1   \n",
       "\n",
       "         weathersit       temp     atemp      hum  windspeed  casual  \\\n",
       "instant                                                                \n",
       "1                 2  14.110847  18.18125  80.5833  10.749882     331   \n",
       "2                 2  14.902598  17.68695  69.6087  16.652113     131   \n",
       "3                 1   8.050924   9.47025  43.7273  16.636703     120   \n",
       "4                 1   8.200000  10.60610  59.0435  10.739832     108   \n",
       "5                 1   9.305237  11.46350  43.6957  12.522300      82   \n",
       "...             ...        ...       ...      ...        ...     ...   \n",
       "726               2  10.420847  11.33210  65.2917  23.458911     247   \n",
       "727               2  10.386653  12.75230  59.0000  10.416557     644   \n",
       "728               2  10.386653  12.12000  75.2917   8.333661     159   \n",
       "729               1  10.489153  11.58500  48.3333  23.500518     364   \n",
       "730               2   8.849153  11.17435  57.7500  10.374682     439   \n",
       "\n",
       "         registered   cnt  \n",
       "instant                    \n",
       "1               654   985  \n",
       "2               670   801  \n",
       "3              1229  1349  \n",
       "4              1454  1562  \n",
       "5              1518  1600  \n",
       "...             ...   ...  \n",
       "726            1867  2114  \n",
       "727            2451  3095  \n",
       "728            1182  1341  \n",
       "729            1432  1796  \n",
       "730            2290  2729  \n",
       "\n",
       "[730 rows x 15 columns]"
      ]
     },
     "execution_count": 2,
     "metadata": {},
     "output_type": "execute_result"
    }
   ],
   "source": [
    "bikes=pd.read_csv('E:/DSS/gilthub projects/05-bike sharing-gradient boost/bikesharing.csv', index_col=0)\n",
    "bikes"
   ]
  },
  {
   "cell_type": "code",
   "execution_count": 3,
   "metadata": {},
   "outputs": [
    {
     "name": "stdout",
     "output_type": "stream",
     "text": [
      "<class 'pandas.core.frame.DataFrame'>\n",
      "Int64Index: 730 entries, 1 to 730\n",
      "Data columns (total 15 columns):\n",
      " #   Column      Non-Null Count  Dtype  \n",
      "---  ------      --------------  -----  \n",
      " 0   dteday      730 non-null    object \n",
      " 1   season      730 non-null    int64  \n",
      " 2   yr          730 non-null    int64  \n",
      " 3   mnth        730 non-null    int64  \n",
      " 4   holiday     730 non-null    int64  \n",
      " 5   weekday     730 non-null    int64  \n",
      " 6   workingday  730 non-null    int64  \n",
      " 7   weathersit  730 non-null    int64  \n",
      " 8   temp        730 non-null    float64\n",
      " 9   atemp       730 non-null    float64\n",
      " 10  hum         730 non-null    float64\n",
      " 11  windspeed   730 non-null    float64\n",
      " 12  casual      730 non-null    int64  \n",
      " 13  registered  730 non-null    int64  \n",
      " 14  cnt         730 non-null    int64  \n",
      "dtypes: float64(4), int64(10), object(1)\n",
      "memory usage: 91.2+ KB\n"
     ]
    }
   ],
   "source": [
    "bikes.info()"
   ]
  },
  {
   "cell_type": "code",
   "execution_count": 4,
   "metadata": {},
   "outputs": [
    {
     "data": {
      "text/plain": [
       "10950"
      ]
     },
     "execution_count": 4,
     "metadata": {},
     "output_type": "execute_result"
    }
   ],
   "source": [
    "bikes.size"
   ]
  },
  {
   "cell_type": "code",
   "execution_count": 5,
   "metadata": {},
   "outputs": [
    {
     "data": {
      "text/plain": [
       "(730, 15)"
      ]
     },
     "execution_count": 5,
     "metadata": {},
     "output_type": "execute_result"
    }
   ],
   "source": [
    "bikes.shape"
   ]
  },
  {
   "cell_type": "code",
   "execution_count": 6,
   "metadata": {},
   "outputs": [
    {
     "data": {
      "text/html": [
       "<div>\n",
       "<style scoped>\n",
       "    .dataframe tbody tr th:only-of-type {\n",
       "        vertical-align: middle;\n",
       "    }\n",
       "\n",
       "    .dataframe tbody tr th {\n",
       "        vertical-align: top;\n",
       "    }\n",
       "\n",
       "    .dataframe thead th {\n",
       "        text-align: right;\n",
       "    }\n",
       "</style>\n",
       "<table border=\"1\" class=\"dataframe\">\n",
       "  <thead>\n",
       "    <tr style=\"text-align: right;\">\n",
       "      <th></th>\n",
       "      <th>season</th>\n",
       "      <th>yr</th>\n",
       "      <th>mnth</th>\n",
       "      <th>holiday</th>\n",
       "      <th>weekday</th>\n",
       "      <th>workingday</th>\n",
       "      <th>weathersit</th>\n",
       "      <th>temp</th>\n",
       "      <th>atemp</th>\n",
       "      <th>hum</th>\n",
       "      <th>windspeed</th>\n",
       "      <th>casual</th>\n",
       "      <th>registered</th>\n",
       "      <th>cnt</th>\n",
       "    </tr>\n",
       "  </thead>\n",
       "  <tbody>\n",
       "    <tr>\n",
       "      <th>count</th>\n",
       "      <td>730.000000</td>\n",
       "      <td>730.000000</td>\n",
       "      <td>730.000000</td>\n",
       "      <td>730.000000</td>\n",
       "      <td>730.000000</td>\n",
       "      <td>730.000000</td>\n",
       "      <td>730.000000</td>\n",
       "      <td>730.000000</td>\n",
       "      <td>730.000000</td>\n",
       "      <td>730.000000</td>\n",
       "      <td>730.000000</td>\n",
       "      <td>730.000000</td>\n",
       "      <td>730.000000</td>\n",
       "      <td>730.000000</td>\n",
       "    </tr>\n",
       "    <tr>\n",
       "      <th>mean</th>\n",
       "      <td>2.498630</td>\n",
       "      <td>0.500000</td>\n",
       "      <td>6.526027</td>\n",
       "      <td>0.028767</td>\n",
       "      <td>2.997260</td>\n",
       "      <td>0.683562</td>\n",
       "      <td>1.394521</td>\n",
       "      <td>20.319259</td>\n",
       "      <td>23.726322</td>\n",
       "      <td>62.765175</td>\n",
       "      <td>12.763620</td>\n",
       "      <td>849.249315</td>\n",
       "      <td>3658.757534</td>\n",
       "      <td>4508.006849</td>\n",
       "    </tr>\n",
       "    <tr>\n",
       "      <th>std</th>\n",
       "      <td>1.110184</td>\n",
       "      <td>0.500343</td>\n",
       "      <td>3.450215</td>\n",
       "      <td>0.167266</td>\n",
       "      <td>2.006161</td>\n",
       "      <td>0.465405</td>\n",
       "      <td>0.544807</td>\n",
       "      <td>7.506729</td>\n",
       "      <td>8.150308</td>\n",
       "      <td>14.237589</td>\n",
       "      <td>5.195841</td>\n",
       "      <td>686.479875</td>\n",
       "      <td>1559.758728</td>\n",
       "      <td>1936.011647</td>\n",
       "    </tr>\n",
       "    <tr>\n",
       "      <th>min</th>\n",
       "      <td>1.000000</td>\n",
       "      <td>0.000000</td>\n",
       "      <td>1.000000</td>\n",
       "      <td>0.000000</td>\n",
       "      <td>0.000000</td>\n",
       "      <td>0.000000</td>\n",
       "      <td>1.000000</td>\n",
       "      <td>2.424346</td>\n",
       "      <td>3.953480</td>\n",
       "      <td>0.000000</td>\n",
       "      <td>1.500244</td>\n",
       "      <td>2.000000</td>\n",
       "      <td>20.000000</td>\n",
       "      <td>22.000000</td>\n",
       "    </tr>\n",
       "    <tr>\n",
       "      <th>25%</th>\n",
       "      <td>2.000000</td>\n",
       "      <td>0.000000</td>\n",
       "      <td>4.000000</td>\n",
       "      <td>0.000000</td>\n",
       "      <td>1.000000</td>\n",
       "      <td>0.000000</td>\n",
       "      <td>1.000000</td>\n",
       "      <td>13.811885</td>\n",
       "      <td>16.889713</td>\n",
       "      <td>52.000000</td>\n",
       "      <td>9.041650</td>\n",
       "      <td>316.250000</td>\n",
       "      <td>2502.250000</td>\n",
       "      <td>3169.750000</td>\n",
       "    </tr>\n",
       "    <tr>\n",
       "      <th>50%</th>\n",
       "      <td>3.000000</td>\n",
       "      <td>0.500000</td>\n",
       "      <td>7.000000</td>\n",
       "      <td>0.000000</td>\n",
       "      <td>3.000000</td>\n",
       "      <td>1.000000</td>\n",
       "      <td>1.000000</td>\n",
       "      <td>20.465826</td>\n",
       "      <td>24.368225</td>\n",
       "      <td>62.625000</td>\n",
       "      <td>12.125325</td>\n",
       "      <td>717.000000</td>\n",
       "      <td>3664.500000</td>\n",
       "      <td>4548.500000</td>\n",
       "    </tr>\n",
       "    <tr>\n",
       "      <th>75%</th>\n",
       "      <td>3.000000</td>\n",
       "      <td>1.000000</td>\n",
       "      <td>10.000000</td>\n",
       "      <td>0.000000</td>\n",
       "      <td>5.000000</td>\n",
       "      <td>1.000000</td>\n",
       "      <td>2.000000</td>\n",
       "      <td>26.880615</td>\n",
       "      <td>30.445775</td>\n",
       "      <td>72.989575</td>\n",
       "      <td>15.625589</td>\n",
       "      <td>1096.500000</td>\n",
       "      <td>4783.250000</td>\n",
       "      <td>5966.000000</td>\n",
       "    </tr>\n",
       "    <tr>\n",
       "      <th>max</th>\n",
       "      <td>4.000000</td>\n",
       "      <td>1.000000</td>\n",
       "      <td>12.000000</td>\n",
       "      <td>1.000000</td>\n",
       "      <td>6.000000</td>\n",
       "      <td>1.000000</td>\n",
       "      <td>3.000000</td>\n",
       "      <td>35.328347</td>\n",
       "      <td>42.044800</td>\n",
       "      <td>97.250000</td>\n",
       "      <td>34.000021</td>\n",
       "      <td>3410.000000</td>\n",
       "      <td>6946.000000</td>\n",
       "      <td>8714.000000</td>\n",
       "    </tr>\n",
       "  </tbody>\n",
       "</table>\n",
       "</div>"
      ],
      "text/plain": [
       "           season          yr        mnth     holiday     weekday  workingday  \\\n",
       "count  730.000000  730.000000  730.000000  730.000000  730.000000  730.000000   \n",
       "mean     2.498630    0.500000    6.526027    0.028767    2.997260    0.683562   \n",
       "std      1.110184    0.500343    3.450215    0.167266    2.006161    0.465405   \n",
       "min      1.000000    0.000000    1.000000    0.000000    0.000000    0.000000   \n",
       "25%      2.000000    0.000000    4.000000    0.000000    1.000000    0.000000   \n",
       "50%      3.000000    0.500000    7.000000    0.000000    3.000000    1.000000   \n",
       "75%      3.000000    1.000000   10.000000    0.000000    5.000000    1.000000   \n",
       "max      4.000000    1.000000   12.000000    1.000000    6.000000    1.000000   \n",
       "\n",
       "       weathersit        temp       atemp         hum   windspeed  \\\n",
       "count  730.000000  730.000000  730.000000  730.000000  730.000000   \n",
       "mean     1.394521   20.319259   23.726322   62.765175   12.763620   \n",
       "std      0.544807    7.506729    8.150308   14.237589    5.195841   \n",
       "min      1.000000    2.424346    3.953480    0.000000    1.500244   \n",
       "25%      1.000000   13.811885   16.889713   52.000000    9.041650   \n",
       "50%      1.000000   20.465826   24.368225   62.625000   12.125325   \n",
       "75%      2.000000   26.880615   30.445775   72.989575   15.625589   \n",
       "max      3.000000   35.328347   42.044800   97.250000   34.000021   \n",
       "\n",
       "            casual   registered          cnt  \n",
       "count   730.000000   730.000000   730.000000  \n",
       "mean    849.249315  3658.757534  4508.006849  \n",
       "std     686.479875  1559.758728  1936.011647  \n",
       "min       2.000000    20.000000    22.000000  \n",
       "25%     316.250000  2502.250000  3169.750000  \n",
       "50%     717.000000  3664.500000  4548.500000  \n",
       "75%    1096.500000  4783.250000  5966.000000  \n",
       "max    3410.000000  6946.000000  8714.000000  "
      ]
     },
     "execution_count": 6,
     "metadata": {},
     "output_type": "execute_result"
    }
   ],
   "source": [
    "bikes.describe()"
   ]
  },
  {
   "cell_type": "code",
   "execution_count": 7,
   "metadata": {},
   "outputs": [
    {
     "data": {
      "text/plain": [
       "dteday        0\n",
       "season        0\n",
       "yr            0\n",
       "mnth          0\n",
       "holiday       0\n",
       "weekday       0\n",
       "workingday    0\n",
       "weathersit    0\n",
       "temp          0\n",
       "atemp         0\n",
       "hum           0\n",
       "windspeed     0\n",
       "casual        0\n",
       "registered    0\n",
       "cnt           0\n",
       "dtype: int64"
      ]
     },
     "execution_count": 7,
     "metadata": {},
     "output_type": "execute_result"
    }
   ],
   "source": [
    "# Checking for null values\n",
    "bikes.isna().sum()"
   ]
  },
  {
   "cell_type": "code",
   "execution_count": 8,
   "metadata": {},
   "outputs": [
    {
     "data": {
      "text/plain": [
       "Index(['dteday', 'season', 'yr', 'mnth', 'holiday', 'weekday', 'workingday',\n",
       "       'weathersit', 'temp', 'atemp', 'hum', 'windspeed', 'casual',\n",
       "       'registered', 'cnt'],\n",
       "      dtype='object')"
      ]
     },
     "execution_count": 8,
     "metadata": {},
     "output_type": "execute_result"
    }
   ],
   "source": [
    "bikes.columns"
   ]
  },
  {
   "cell_type": "code",
   "execution_count": 9,
   "metadata": {},
   "outputs": [
    {
     "data": {
      "text/plain": [
       "array([1, 2, 3, 4], dtype=int64)"
      ]
     },
     "execution_count": 9,
     "metadata": {},
     "output_type": "execute_result"
    }
   ],
   "source": [
    "# Numerical values to string values in season column\n",
    "bikes['season'].unique()"
   ]
  },
  {
   "cell_type": "code",
   "execution_count": 10,
   "metadata": {},
   "outputs": [],
   "source": [
    "# Alternate code\n",
    "#bikes.loc[(bikes[\"season\"]==1),\"season\"]=\"spring\"\n",
    "#bikes.loc[(bikes[\"season\"]==2),\"season\"]=\"summer\"\n",
    "#bikes.loc[(bikes[\"season\"]==3),\"season\"]=\"fall\"\n",
    "#bikes.loc[(bikes[\"season\"]==4),\"season\"]=\"winter\""
   ]
  },
  {
   "cell_type": "code",
   "execution_count": 11,
   "metadata": {},
   "outputs": [],
   "source": [
    "bikes['season']=bikes['season'].replace(1, 'Spring')\n",
    "bikes['season']=bikes['season'].replace(2, 'summer')\n",
    "bikes['season']=bikes['season'].replace(3, 'fall')\n",
    "bikes['season']=bikes['season'].replace(4, 'winter')"
   ]
  },
  {
   "cell_type": "code",
   "execution_count": 12,
   "metadata": {},
   "outputs": [
    {
     "data": {
      "text/plain": [
       "array(['Spring', 'summer', 'fall', 'winter'], dtype=object)"
      ]
     },
     "execution_count": 12,
     "metadata": {},
     "output_type": "execute_result"
    }
   ],
   "source": [
    "bikes['season'].unique()"
   ]
  },
  {
   "cell_type": "code",
   "execution_count": 13,
   "metadata": {},
   "outputs": [
    {
     "data": {
      "text/plain": [
       "fall      188\n",
       "summer    184\n",
       "Spring    180\n",
       "winter    178\n",
       "Name: season, dtype: int64"
      ]
     },
     "execution_count": 13,
     "metadata": {},
     "output_type": "execute_result"
    }
   ],
   "source": [
    "bikes['season'].value_counts()"
   ]
  },
  {
   "cell_type": "code",
   "execution_count": 14,
   "metadata": {},
   "outputs": [
    {
     "data": {
      "text/plain": [
       "1    365\n",
       "0    365\n",
       "Name: yr, dtype: int64"
      ]
     },
     "execution_count": 14,
     "metadata": {},
     "output_type": "execute_result"
    }
   ],
   "source": [
    "bikes['yr'].value_counts()"
   ]
  },
  {
   "cell_type": "code",
   "execution_count": 15,
   "metadata": {},
   "outputs": [],
   "source": [
    "# Convert month numbers into string\n",
    "# write function\n",
    "def object_map(x):\n",
    "    return x.map({1:\"Jan\",2:\"Feb\",3:\"Mar\",4:\"Apr\",5:\"May\",6:\"Jun\",7:\"July\",8:\"Aug\",9:\"Sep\",10:\"Oct\",11:\"Nov\",12:\"Dec\"})"
   ]
  },
  {
   "cell_type": "code",
   "execution_count": 16,
   "metadata": {},
   "outputs": [],
   "source": [
    "# Use above function\n",
    "bikes[['mnth']]=bikes[['mnth']].apply(object_map)"
   ]
  },
  {
   "cell_type": "code",
   "execution_count": 17,
   "metadata": {},
   "outputs": [
    {
     "data": {
      "text/plain": [
       "array(['Jan', 'Feb', 'Mar', 'Apr', 'May', 'Jun', 'July', 'Aug', 'Sep',\n",
       "       'Oct', 'Nov', 'Dec'], dtype=object)"
      ]
     },
     "execution_count": 17,
     "metadata": {},
     "output_type": "execute_result"
    }
   ],
   "source": [
    "bikes['mnth'].unique()"
   ]
  },
  {
   "cell_type": "code",
   "execution_count": 18,
   "metadata": {},
   "outputs": [
    {
     "data": {
      "text/plain": [
       "Dec     62\n",
       "Mar     62\n",
       "Jan     62\n",
       "Oct     62\n",
       "July    62\n",
       "May     62\n",
       "Aug     62\n",
       "Jun     60\n",
       "Nov     60\n",
       "Sep     60\n",
       "Apr     60\n",
       "Feb     56\n",
       "Name: mnth, dtype: int64"
      ]
     },
     "execution_count": 18,
     "metadata": {},
     "output_type": "execute_result"
    }
   ],
   "source": [
    "bikes['mnth'].value_counts()"
   ]
  },
  {
   "cell_type": "code",
   "execution_count": 19,
   "metadata": {},
   "outputs": [
    {
     "data": {
      "text/plain": [
       "0    709\n",
       "1     21\n",
       "Name: holiday, dtype: int64"
      ]
     },
     "execution_count": 19,
     "metadata": {},
     "output_type": "execute_result"
    }
   ],
   "source": [
    "bikes['holiday'].value_counts() # better to drop this columns"
   ]
  },
  {
   "cell_type": "code",
   "execution_count": 20,
   "metadata": {},
   "outputs": [
    {
     "data": {
      "text/plain": [
       "array([6, 0, 1, 2, 3, 4, 5], dtype=int64)"
      ]
     },
     "execution_count": 20,
     "metadata": {},
     "output_type": "execute_result"
    }
   ],
   "source": [
    "bikes['weekday'].unique()"
   ]
  },
  {
   "cell_type": "code",
   "execution_count": 21,
   "metadata": {},
   "outputs": [],
   "source": [
    "def object_map(x):\n",
    "    return x.map({0:\"Tue\",1:\"Wed\",2:\"Thu\",3:\"Fri\",4:\"Sat\",5:\"Sun\",6:\"Mon\",}) \n"
   ]
  },
  {
   "cell_type": "code",
   "execution_count": 22,
   "metadata": {},
   "outputs": [],
   "source": [
    "bikes[['weekday']]=bikes[['weekday']].apply(object_map)"
   ]
  },
  {
   "cell_type": "code",
   "execution_count": 23,
   "metadata": {},
   "outputs": [
    {
     "data": {
      "text/plain": [
       "array(['Mon', 'Tue', 'Wed', 'Thu', 'Fri', 'Sat', 'Sun'], dtype=object)"
      ]
     },
     "execution_count": 23,
     "metadata": {},
     "output_type": "execute_result"
    }
   ],
   "source": [
    "bikes['weekday'].unique()"
   ]
  },
  {
   "cell_type": "code",
   "execution_count": 24,
   "metadata": {},
   "outputs": [
    {
     "data": {
      "text/plain": [
       "Tue    105\n",
       "Wed    105\n",
       "Mon    105\n",
       "Sat    104\n",
       "Sun    104\n",
       "Thu    104\n",
       "Fri    103\n",
       "Name: weekday, dtype: int64"
      ]
     },
     "execution_count": 24,
     "metadata": {},
     "output_type": "execute_result"
    }
   ],
   "source": [
    "bikes['weekday'].value_counts()"
   ]
  },
  {
   "cell_type": "code",
   "execution_count": 25,
   "metadata": {},
   "outputs": [
    {
     "data": {
      "text/plain": [
       "1    499\n",
       "0    231\n",
       "Name: workingday, dtype: int64"
      ]
     },
     "execution_count": 25,
     "metadata": {},
     "output_type": "execute_result"
    }
   ],
   "source": [
    "bikes['workingday'].value_counts()"
   ]
  },
  {
   "cell_type": "code",
   "execution_count": 26,
   "metadata": {},
   "outputs": [
    {
     "data": {
      "text/plain": [
       "1    463\n",
       "2    246\n",
       "3     21\n",
       "Name: weathersit, dtype: int64"
      ]
     },
     "execution_count": 26,
     "metadata": {},
     "output_type": "execute_result"
    }
   ],
   "source": [
    "bikes['weathersit'].value_counts()"
   ]
  },
  {
   "cell_type": "code",
   "execution_count": 27,
   "metadata": {},
   "outputs": [
    {
     "data": {
      "text/plain": [
       "array([2, 1, 3], dtype=int64)"
      ]
     },
     "execution_count": 27,
     "metadata": {},
     "output_type": "execute_result"
    }
   ],
   "source": [
    "bikes['weathersit'].unique()"
   ]
  },
  {
   "cell_type": "code",
   "execution_count": 28,
   "metadata": {},
   "outputs": [],
   "source": [
    "bikes.loc[(bikes[\"weathersit\"]==1),\"weathersit\"]=\"A\"\n",
    "bikes.loc[(bikes[\"weathersit\"]==2),\"weathersit\"]=\"B\"\n",
    "bikes.loc[(bikes[\"weathersit\"]==3),\"weathersit\"]=\"C\"\n",
    "bikes.loc[(bikes[\"weathersit\"]==4),\"weathersit\"]=\"D\""
   ]
  },
  {
   "cell_type": "code",
   "execution_count": 29,
   "metadata": {},
   "outputs": [
    {
     "data": {
      "text/plain": [
       "A    463\n",
       "B    246\n",
       "C     21\n",
       "Name: weathersit, dtype: int64"
      ]
     },
     "execution_count": 29,
     "metadata": {},
     "output_type": "execute_result"
    }
   ],
   "source": [
    "bikes['weathersit'].value_counts()"
   ]
  },
  {
   "cell_type": "code",
   "execution_count": 30,
   "metadata": {},
   "outputs": [
    {
     "name": "stdout",
     "output_type": "stream",
     "text": [
      "<class 'pandas.core.frame.DataFrame'>\n",
      "Int64Index: 730 entries, 1 to 730\n",
      "Data columns (total 15 columns):\n",
      " #   Column      Non-Null Count  Dtype  \n",
      "---  ------      --------------  -----  \n",
      " 0   dteday      730 non-null    object \n",
      " 1   season      730 non-null    object \n",
      " 2   yr          730 non-null    int64  \n",
      " 3   mnth        730 non-null    object \n",
      " 4   holiday     730 non-null    int64  \n",
      " 5   weekday     730 non-null    object \n",
      " 6   workingday  730 non-null    int64  \n",
      " 7   weathersit  730 non-null    object \n",
      " 8   temp        730 non-null    float64\n",
      " 9   atemp       730 non-null    float64\n",
      " 10  hum         730 non-null    float64\n",
      " 11  windspeed   730 non-null    float64\n",
      " 12  casual      730 non-null    int64  \n",
      " 13  registered  730 non-null    int64  \n",
      " 14  cnt         730 non-null    int64  \n",
      "dtypes: float64(4), int64(6), object(5)\n",
      "memory usage: 91.2+ KB\n"
     ]
    }
   ],
   "source": [
    "bikes.info()"
   ]
  },
  {
   "cell_type": "code",
   "execution_count": 31,
   "metadata": {},
   "outputs": [
    {
     "name": "stderr",
     "output_type": "stream",
     "text": [
      "C:\\Users\\Veera Bhadra Chary\\anaconda3\\lib\\site-packages\\seaborn\\distributions.py:2551: FutureWarning: `distplot` is a deprecated function and will be removed in a future version. Please adapt your code to use either `displot` (a figure-level function with similar flexibility) or `histplot` (an axes-level function for histograms).\n",
      "  warnings.warn(msg, FutureWarning)\n"
     ]
    },
    {
     "data": {
      "image/png": "[encoded data removed]",
      "text/plain": [
       "<Figure size 432x288 with 1 Axes>"
      ]
     },
     "metadata": {
      "needs_background": "light"
     },
     "output_type": "display_data"
    }
   ],
   "source": [
    "sb.distplot(bikes['temp'])\n",
    "plt.show()\n"
   ]
  },
  {
   "cell_type": "code",
   "execution_count": 32,
   "metadata": {},
   "outputs": [
    {
     "name": "stderr",
     "output_type": "stream",
     "text": [
      "C:\\Users\\Veera Bhadra Chary\\anaconda3\\lib\\site-packages\\seaborn\\distributions.py:2551: FutureWarning: `distplot` is a deprecated function and will be removed in a future version. Please adapt your code to use either `displot` (a figure-level function with similar flexibility) or `histplot` (an axes-level function for histograms).\n",
      "  warnings.warn(msg, FutureWarning)\n"
     ]
    },
    {
     "data": {
      "image/png": "[encoded data removed]",
      "text/plain": [
       "<Figure size 432x288 with 1 Axes>"
      ]
     },
     "metadata": {
      "needs_background": "light"
     },
     "output_type": "display_data"
    }
   ],
   "source": [
    "sb.distplot(bikes['atemp'])\n",
    "plt.show()"
   ]
  },
  {
   "cell_type": "code",
   "execution_count": 33,
   "metadata": {},
   "outputs": [
    {
     "name": "stderr",
     "output_type": "stream",
     "text": [
      "C:\\Users\\Veera Bhadra Chary\\anaconda3\\lib\\site-packages\\seaborn\\distributions.py:2551: FutureWarning: `distplot` is a deprecated function and will be removed in a future version. Please adapt your code to use either `displot` (a figure-level function with similar flexibility) or `histplot` (an axes-level function for histograms).\n",
      "  warnings.warn(msg, FutureWarning)\n"
     ]
    },
    {
     "data": {
      "image/png": "[encoded data removed]",
      "text/plain": [
       "<Figure size 432x288 with 1 Axes>"
      ]
     },
     "metadata": {
      "needs_background": "light"
     },
     "output_type": "display_data"
    }
   ],
   "source": [
    "sb.distplot(bikes['hum'])\n",
    "plt.show()"
   ]
  },
  {
   "cell_type": "code",
   "execution_count": 34,
   "metadata": {},
   "outputs": [
    {
     "name": "stderr",
     "output_type": "stream",
     "text": [
      "C:\\Users\\Veera Bhadra Chary\\anaconda3\\lib\\site-packages\\seaborn\\distributions.py:2551: FutureWarning: `distplot` is a deprecated function and will be removed in a future version. Please adapt your code to use either `displot` (a figure-level function with similar flexibility) or `histplot` (an axes-level function for histograms).\n",
      "  warnings.warn(msg, FutureWarning)\n"
     ]
    },
    {
     "data": {
      "image/png": "[encoded data removed]",
      "text/plain": [
       "<Figure size 432x288 with 1 Axes>"
      ]
     },
     "metadata": {
      "needs_background": "light"
     },
     "output_type": "display_data"
    }
   ],
   "source": [
    "sb.distplot(bikes['windspeed'])\n",
    "plt.show()"
   ]
  },
  {
   "cell_type": "code",
   "execution_count": 35,
   "metadata": {},
   "outputs": [
    {
     "name": "stderr",
     "output_type": "stream",
     "text": [
      "C:\\Users\\Veera Bhadra Chary\\anaconda3\\lib\\site-packages\\seaborn\\distributions.py:2551: FutureWarning: `distplot` is a deprecated function and will be removed in a future version. Please adapt your code to use either `displot` (a figure-level function with similar flexibility) or `histplot` (an axes-level function for histograms).\n",
      "  warnings.warn(msg, FutureWarning)\n"
     ]
    },
    {
     "data": {
      "image/png": "[encoded data removed]",
      "text/plain": [
       "<Figure size 432x288 with 1 Axes>"
      ]
     },
     "metadata": {
      "needs_background": "light"
     },
     "output_type": "display_data"
    }
   ],
   "source": [
    "sb.distplot(bikes['cnt'])\n",
    "plt.show()"
   ]
  },
  {
   "cell_type": "code",
   "execution_count": 36,
   "metadata": {},
   "outputs": [
    {
     "name": "stdout",
     "output_type": "stream",
     "text": [
      "<class 'pandas.core.frame.DataFrame'>\n",
      "Int64Index: 730 entries, 1 to 730\n",
      "Data columns (total 15 columns):\n",
      " #   Column      Non-Null Count  Dtype  \n",
      "---  ------      --------------  -----  \n",
      " 0   dteday      730 non-null    object \n",
      " 1   season      730 non-null    object \n",
      " 2   yr          730 non-null    int64  \n",
      " 3   mnth        730 non-null    object \n",
      " 4   holiday     730 non-null    int64  \n",
      " 5   weekday     730 non-null    object \n",
      " 6   workingday  730 non-null    int64  \n",
      " 7   weathersit  730 non-null    object \n",
      " 8   temp        730 non-null    float64\n",
      " 9   atemp       730 non-null    float64\n",
      " 10  hum         730 non-null    float64\n",
      " 11  windspeed   730 non-null    float64\n",
      " 12  casual      730 non-null    int64  \n",
      " 13  registered  730 non-null    int64  \n",
      " 14  cnt         730 non-null    int64  \n",
      "dtypes: float64(4), int64(6), object(5)\n",
      "memory usage: 91.2+ KB\n"
     ]
    }
   ],
   "source": [
    "bikes.info()"
   ]
  },
  {
   "cell_type": "code",
   "execution_count": 37,
   "metadata": {},
   "outputs": [],
   "source": [
    "# Verification of date time object\n",
    "bikes['dteday']=pd.to_datetime(bikes['dteday'])\n",
    "#bikes['dteday']=bikes['dteday'].astype(bikes['dteday'])"
   ]
  },
  {
   "cell_type": "code",
   "execution_count": 38,
   "metadata": {},
   "outputs": [
    {
     "name": "stdout",
     "output_type": "stream",
     "text": [
      "<class 'pandas.core.frame.DataFrame'>\n",
      "Int64Index: 730 entries, 1 to 730\n",
      "Data columns (total 15 columns):\n",
      " #   Column      Non-Null Count  Dtype         \n",
      "---  ------      --------------  -----         \n",
      " 0   dteday      730 non-null    datetime64[ns]\n",
      " 1   season      730 non-null    object        \n",
      " 2   yr          730 non-null    int64         \n",
      " 3   mnth        730 non-null    object        \n",
      " 4   holiday     730 non-null    int64         \n",
      " 5   weekday     730 non-null    object        \n",
      " 6   workingday  730 non-null    int64         \n",
      " 7   weathersit  730 non-null    object        \n",
      " 8   temp        730 non-null    float64       \n",
      " 9   atemp       730 non-null    float64       \n",
      " 10  hum         730 non-null    float64       \n",
      " 11  windspeed   730 non-null    float64       \n",
      " 12  casual      730 non-null    int64         \n",
      " 13  registered  730 non-null    int64         \n",
      " 14  cnt         730 non-null    int64         \n",
      "dtypes: datetime64[ns](1), float64(4), int64(6), object(4)\n",
      "memory usage: 91.2+ KB\n"
     ]
    }
   ],
   "source": [
    "bikes.info()"
   ]
  },
  {
   "cell_type": "code",
   "execution_count": 39,
   "metadata": {},
   "outputs": [],
   "source": [
    "bikes_categorical=bikes.select_dtypes(\"object\")"
   ]
  },
  {
   "cell_type": "code",
   "execution_count": 40,
   "metadata": {},
   "outputs": [
    {
     "name": "stdout",
     "output_type": "stream",
     "text": [
      "<class 'pandas.core.frame.DataFrame'>\n",
      "Int64Index: 730 entries, 1 to 730\n",
      "Data columns (total 4 columns):\n",
      " #   Column      Non-Null Count  Dtype \n",
      "---  ------      --------------  ----- \n",
      " 0   season      730 non-null    object\n",
      " 1   mnth        730 non-null    object\n",
      " 2   weekday     730 non-null    object\n",
      " 3   weathersit  730 non-null    object\n",
      "dtypes: object(4)\n",
      "memory usage: 28.5+ KB\n"
     ]
    }
   ],
   "source": [
    "bikes_categorical.info()"
   ]
  },
  {
   "cell_type": "code",
   "execution_count": 41,
   "metadata": {},
   "outputs": [
    {
     "data": {
      "text/html": [
       "<div>\n",
       "<style scoped>\n",
       "    .dataframe tbody tr th:only-of-type {\n",
       "        vertical-align: middle;\n",
       "    }\n",
       "\n",
       "    .dataframe tbody tr th {\n",
       "        vertical-align: top;\n",
       "    }\n",
       "\n",
       "    .dataframe thead th {\n",
       "        text-align: right;\n",
       "    }\n",
       "</style>\n",
       "<table border=\"1\" class=\"dataframe\">\n",
       "  <thead>\n",
       "    <tr style=\"text-align: right;\">\n",
       "      <th></th>\n",
       "      <th>season</th>\n",
       "      <th>mnth</th>\n",
       "      <th>weekday</th>\n",
       "      <th>weathersit</th>\n",
       "    </tr>\n",
       "    <tr>\n",
       "      <th>instant</th>\n",
       "      <th></th>\n",
       "      <th></th>\n",
       "      <th></th>\n",
       "      <th></th>\n",
       "    </tr>\n",
       "  </thead>\n",
       "  <tbody>\n",
       "    <tr>\n",
       "      <th>1</th>\n",
       "      <td>Spring</td>\n",
       "      <td>Jan</td>\n",
       "      <td>Mon</td>\n",
       "      <td>B</td>\n",
       "    </tr>\n",
       "    <tr>\n",
       "      <th>2</th>\n",
       "      <td>Spring</td>\n",
       "      <td>Jan</td>\n",
       "      <td>Tue</td>\n",
       "      <td>B</td>\n",
       "    </tr>\n",
       "    <tr>\n",
       "      <th>3</th>\n",
       "      <td>Spring</td>\n",
       "      <td>Jan</td>\n",
       "      <td>Wed</td>\n",
       "      <td>A</td>\n",
       "    </tr>\n",
       "    <tr>\n",
       "      <th>4</th>\n",
       "      <td>Spring</td>\n",
       "      <td>Jan</td>\n",
       "      <td>Thu</td>\n",
       "      <td>A</td>\n",
       "    </tr>\n",
       "    <tr>\n",
       "      <th>5</th>\n",
       "      <td>Spring</td>\n",
       "      <td>Jan</td>\n",
       "      <td>Fri</td>\n",
       "      <td>A</td>\n",
       "    </tr>\n",
       "    <tr>\n",
       "      <th>...</th>\n",
       "      <td>...</td>\n",
       "      <td>...</td>\n",
       "      <td>...</td>\n",
       "      <td>...</td>\n",
       "    </tr>\n",
       "    <tr>\n",
       "      <th>726</th>\n",
       "      <td>Spring</td>\n",
       "      <td>Dec</td>\n",
       "      <td>Sat</td>\n",
       "      <td>B</td>\n",
       "    </tr>\n",
       "    <tr>\n",
       "      <th>727</th>\n",
       "      <td>Spring</td>\n",
       "      <td>Dec</td>\n",
       "      <td>Sun</td>\n",
       "      <td>B</td>\n",
       "    </tr>\n",
       "    <tr>\n",
       "      <th>728</th>\n",
       "      <td>Spring</td>\n",
       "      <td>Dec</td>\n",
       "      <td>Mon</td>\n",
       "      <td>B</td>\n",
       "    </tr>\n",
       "    <tr>\n",
       "      <th>729</th>\n",
       "      <td>Spring</td>\n",
       "      <td>Dec</td>\n",
       "      <td>Tue</td>\n",
       "      <td>A</td>\n",
       "    </tr>\n",
       "    <tr>\n",
       "      <th>730</th>\n",
       "      <td>Spring</td>\n",
       "      <td>Dec</td>\n",
       "      <td>Wed</td>\n",
       "      <td>B</td>\n",
       "    </tr>\n",
       "  </tbody>\n",
       "</table>\n",
       "<p>730 rows × 4 columns</p>\n",
       "</div>"
      ],
      "text/plain": [
       "         season mnth weekday weathersit\n",
       "instant                                \n",
       "1        Spring  Jan     Mon          B\n",
       "2        Spring  Jan     Tue          B\n",
       "3        Spring  Jan     Wed          A\n",
       "4        Spring  Jan     Thu          A\n",
       "5        Spring  Jan     Fri          A\n",
       "...         ...  ...     ...        ...\n",
       "726      Spring  Dec     Sat          B\n",
       "727      Spring  Dec     Sun          B\n",
       "728      Spring  Dec     Mon          B\n",
       "729      Spring  Dec     Tue          A\n",
       "730      Spring  Dec     Wed          B\n",
       "\n",
       "[730 rows x 4 columns]"
      ]
     },
     "execution_count": 41,
     "metadata": {},
     "output_type": "execute_result"
    }
   ],
   "source": [
    "bikes_categorical"
   ]
  },
  {
   "cell_type": "code",
   "execution_count": 42,
   "metadata": {},
   "outputs": [
    {
     "data": {
      "text/plain": [
       "<AxesSubplot:xlabel='season', ylabel='cnt'>"
      ]
     },
     "execution_count": 42,
     "metadata": {},
     "output_type": "execute_result"
    },
    {
     "data": {
      "image/png": "[encoded data removed]",
      "text/plain": [
       "<Figure size 432x288 with 1 Axes>"
      ]
     },
     "metadata": {
      "needs_background": "light"
     },
     "output_type": "display_data"
    }
   ],
   "source": [
    "#plt.subplots(3,3,1)\n",
    "sb.boxplot(x=bikes[\"season\"],y=bikes[\"cnt\"])"
   ]
  },
  {
   "cell_type": "code",
   "execution_count": 43,
   "metadata": {},
   "outputs": [
    {
     "data": {
      "image/png": "[encoded data removed]",
      "text/plain": [
       "<Figure size 2160x2160 with 7 Axes>"
      ]
     },
     "metadata": {
      "needs_background": "light"
     },
     "output_type": "display_data"
    }
   ],
   "source": [
    "plt.figure(figsize=(30,30)) #This command will fix figure sizes\n",
    "plt.subplot(3,3,1)\n",
    "sb.boxplot(x=bikes[\"season\"],y=bikes[\"cnt\"])\n",
    "plt.subplot(3,3,2)\n",
    "sb.boxplot(x=\"holiday\",y=\"cnt\", data=bikes)\n",
    "plt.subplot(3,3,3)\n",
    "sb.boxplot(x=\"workingday\",y=\"cnt\", data=bikes)\n",
    "plt.subplot(3,3,4)\n",
    "sb.boxplot(x=\"weathersit\",y=\"cnt\", data=bikes)\n",
    "plt.subplot(3,3,5)\n",
    "sb.boxplot(x=\"mnth\",y=\"cnt\", data=bikes)\n",
    "plt.subplot(3,3,6)\n",
    "sb.boxplot(x=\"weekday\",y=\"cnt\", data=bikes)\n",
    "plt.subplot(3,3,7)\n",
    "sb.boxplot(x=\"yr\",y=\"cnt\", data=bikes)\n",
    "plt.show()\n"
   ]
  },
  {
   "cell_type": "code",
   "execution_count": 44,
   "metadata": {},
   "outputs": [
    {
     "name": "stdout",
     "output_type": "stream",
     "text": [
      "<class 'pandas.core.frame.DataFrame'>\n",
      "Int64Index: 730 entries, 1 to 730\n",
      "Data columns (total 15 columns):\n",
      " #   Column      Non-Null Count  Dtype         \n",
      "---  ------      --------------  -----         \n",
      " 0   dteday      730 non-null    datetime64[ns]\n",
      " 1   season      730 non-null    object        \n",
      " 2   yr          730 non-null    int64         \n",
      " 3   mnth        730 non-null    object        \n",
      " 4   holiday     730 non-null    int64         \n",
      " 5   weekday     730 non-null    object        \n",
      " 6   workingday  730 non-null    int64         \n",
      " 7   weathersit  730 non-null    object        \n",
      " 8   temp        730 non-null    float64       \n",
      " 9   atemp       730 non-null    float64       \n",
      " 10  hum         730 non-null    float64       \n",
      " 11  windspeed   730 non-null    float64       \n",
      " 12  casual      730 non-null    int64         \n",
      " 13  registered  730 non-null    int64         \n",
      " 14  cnt         730 non-null    int64         \n",
      "dtypes: datetime64[ns](1), float64(4), int64(6), object(4)\n",
      "memory usage: 111.2+ KB\n"
     ]
    }
   ],
   "source": [
    "bikes.info()"
   ]
  },
  {
   "cell_type": "code",
   "execution_count": 45,
   "metadata": {},
   "outputs": [],
   "source": [
    "# how to get all numerical columns\n",
    "bikes_numeric=bikes.select_dtypes(include=[\"float64\",\"int64\"])"
   ]
  },
  {
   "cell_type": "code",
   "execution_count": 46,
   "metadata": {},
   "outputs": [
    {
     "name": "stdout",
     "output_type": "stream",
     "text": [
      "<class 'pandas.core.frame.DataFrame'>\n",
      "Int64Index: 730 entries, 1 to 730\n",
      "Data columns (total 10 columns):\n",
      " #   Column      Non-Null Count  Dtype  \n",
      "---  ------      --------------  -----  \n",
      " 0   yr          730 non-null    int64  \n",
      " 1   holiday     730 non-null    int64  \n",
      " 2   workingday  730 non-null    int64  \n",
      " 3   temp        730 non-null    float64\n",
      " 4   atemp       730 non-null    float64\n",
      " 5   hum         730 non-null    float64\n",
      " 6   windspeed   730 non-null    float64\n",
      " 7   casual      730 non-null    int64  \n",
      " 8   registered  730 non-null    int64  \n",
      " 9   cnt         730 non-null    int64  \n",
      "dtypes: float64(4), int64(6)\n",
      "memory usage: 82.7 KB\n"
     ]
    }
   ],
   "source": [
    "bikes_numeric.info()"
   ]
  },
  {
   "cell_type": "code",
   "execution_count": 47,
   "metadata": {},
   "outputs": [
    {
     "data": {
      "text/plain": [
       "Index(['yr', 'holiday', 'workingday', 'temp', 'atemp', 'hum', 'windspeed',\n",
       "       'casual', 'registered', 'cnt'],\n",
       "      dtype='object')"
      ]
     },
     "execution_count": 47,
     "metadata": {},
     "output_type": "execute_result"
    }
   ],
   "source": [
    "bikes_numeric.columns"
   ]
  },
  {
   "cell_type": "code",
   "execution_count": 48,
   "metadata": {},
   "outputs": [],
   "source": [
    "bikes_numeric=bikes_numeric.drop(['yr', 'holiday', 'workingday'],axis=1)"
   ]
  },
  {
   "cell_type": "code",
   "execution_count": 49,
   "metadata": {},
   "outputs": [
    {
     "data": {
      "image/png": "[encoded data removed]",
      "text/plain": [
       "<Figure size 432x288 with 2 Axes>"
      ]
     },
     "metadata": {
      "needs_background": "light"
     },
     "output_type": "display_data"
    }
   ],
   "source": [
    "sb.heatmap(bikes_numeric.corr())\n",
    "plt.show()"
   ]
  },
  {
   "cell_type": "code",
   "execution_count": 50,
   "metadata": {},
   "outputs": [
    {
     "data": {
      "image/png": "[encoded data removed]",
      "text/plain": [
       "<Figure size 432x288 with 2 Axes>"
      ]
     },
     "metadata": {
      "needs_background": "light"
     },
     "output_type": "display_data"
    }
   ],
   "source": [
    "mask=np.array(bikes_numeric.corr())\n",
    "mask[np.tril_indices_from(mask)]=False  #Remove mirror images\n",
    "sb.heatmap(bikes_numeric.corr(),mask=mask,annot=True)\n",
    "plt.show()"
   ]
  },
  {
   "cell_type": "code",
   "execution_count": 51,
   "metadata": {},
   "outputs": [
    {
     "data": {
      "text/plain": [
       "array([[ 0.        ,  0.99169618,  0.12856468, -0.15818638,  0.54273144,\n",
       "         0.53943622,  0.62704403],\n",
       "       [ 0.        ,  0.        ,  0.14151172, -0.1838764 ,  0.54336235,\n",
       "         0.54367823,  0.63068535],\n",
       "       [ 0.        ,  0.        ,  0.        , -0.24850587, -0.07521137,\n",
       "        -0.08921192, -0.09854288],\n",
       "       [ 0.        ,  0.        ,  0.        ,  0.        , -0.16799534,\n",
       "        -0.21791436, -0.2351325 ],\n",
       "       [ 0.        ,  0.        ,  0.        ,  0.        ,  0.        ,\n",
       "         0.39413716,  0.67212341],\n",
       "       [ 0.        ,  0.        ,  0.        ,  0.        ,  0.        ,\n",
       "         0.        ,  0.94541061],\n",
       "       [ 0.        ,  0.        ,  0.        ,  0.        ,  0.        ,\n",
       "         0.        ,  0.        ]])"
      ]
     },
     "execution_count": 51,
     "metadata": {},
     "output_type": "execute_result"
    }
   ],
   "source": [
    "mask"
   ]
  },
  {
   "cell_type": "code",
   "execution_count": 52,
   "metadata": {},
   "outputs": [
    {
     "name": "stdout",
     "output_type": "stream",
     "text": [
      "<class 'pandas.core.frame.DataFrame'>\n",
      "Int64Index: 730 entries, 1 to 730\n",
      "Data columns (total 7 columns):\n",
      " #   Column      Non-Null Count  Dtype  \n",
      "---  ------      --------------  -----  \n",
      " 0   temp        730 non-null    float64\n",
      " 1   atemp       730 non-null    float64\n",
      " 2   hum         730 non-null    float64\n",
      " 3   windspeed   730 non-null    float64\n",
      " 4   casual      730 non-null    int64  \n",
      " 5   registered  730 non-null    int64  \n",
      " 6   cnt         730 non-null    int64  \n",
      "dtypes: float64(4), int64(3)\n",
      "memory usage: 65.6 KB\n"
     ]
    }
   ],
   "source": [
    "bikes_numeric.info()"
   ]
  },
  {
   "cell_type": "code",
   "execution_count": 53,
   "metadata": {},
   "outputs": [],
   "source": [
    " # custamization of temp and atmp correlations\n",
    "bikes.drop([\"atemp\"], axis=1,inplace=True)"
   ]
  },
  {
   "cell_type": "code",
   "execution_count": 54,
   "metadata": {},
   "outputs": [
    {
     "name": "stdout",
     "output_type": "stream",
     "text": [
      "<class 'pandas.core.frame.DataFrame'>\n",
      "Int64Index: 730 entries, 1 to 730\n",
      "Data columns (total 7 columns):\n",
      " #   Column      Non-Null Count  Dtype  \n",
      "---  ------      --------------  -----  \n",
      " 0   temp        730 non-null    float64\n",
      " 1   atemp       730 non-null    float64\n",
      " 2   hum         730 non-null    float64\n",
      " 3   windspeed   730 non-null    float64\n",
      " 4   casual      730 non-null    int64  \n",
      " 5   registered  730 non-null    int64  \n",
      " 6   cnt         730 non-null    int64  \n",
      "dtypes: float64(4), int64(3)\n",
      "memory usage: 65.6 KB\n"
     ]
    }
   ],
   "source": [
    "bikes_numeric.info()"
   ]
  },
  {
   "cell_type": "code",
   "execution_count": 55,
   "metadata": {},
   "outputs": [
    {
     "data": {
      "text/html": [
       "<div>\n",
       "<style scoped>\n",
       "    .dataframe tbody tr th:only-of-type {\n",
       "        vertical-align: middle;\n",
       "    }\n",
       "\n",
       "    .dataframe tbody tr th {\n",
       "        vertical-align: top;\n",
       "    }\n",
       "\n",
       "    .dataframe thead th {\n",
       "        text-align: right;\n",
       "    }\n",
       "</style>\n",
       "<table border=\"1\" class=\"dataframe\">\n",
       "  <thead>\n",
       "    <tr style=\"text-align: right;\">\n",
       "      <th></th>\n",
       "      <th>season</th>\n",
       "      <th>mnth</th>\n",
       "      <th>weekday</th>\n",
       "      <th>weathersit</th>\n",
       "    </tr>\n",
       "    <tr>\n",
       "      <th>instant</th>\n",
       "      <th></th>\n",
       "      <th></th>\n",
       "      <th></th>\n",
       "      <th></th>\n",
       "    </tr>\n",
       "  </thead>\n",
       "  <tbody>\n",
       "    <tr>\n",
       "      <th>1</th>\n",
       "      <td>Spring</td>\n",
       "      <td>Jan</td>\n",
       "      <td>Mon</td>\n",
       "      <td>B</td>\n",
       "    </tr>\n",
       "    <tr>\n",
       "      <th>2</th>\n",
       "      <td>Spring</td>\n",
       "      <td>Jan</td>\n",
       "      <td>Tue</td>\n",
       "      <td>B</td>\n",
       "    </tr>\n",
       "    <tr>\n",
       "      <th>3</th>\n",
       "      <td>Spring</td>\n",
       "      <td>Jan</td>\n",
       "      <td>Wed</td>\n",
       "      <td>A</td>\n",
       "    </tr>\n",
       "    <tr>\n",
       "      <th>4</th>\n",
       "      <td>Spring</td>\n",
       "      <td>Jan</td>\n",
       "      <td>Thu</td>\n",
       "      <td>A</td>\n",
       "    </tr>\n",
       "    <tr>\n",
       "      <th>5</th>\n",
       "      <td>Spring</td>\n",
       "      <td>Jan</td>\n",
       "      <td>Fri</td>\n",
       "      <td>A</td>\n",
       "    </tr>\n",
       "    <tr>\n",
       "      <th>...</th>\n",
       "      <td>...</td>\n",
       "      <td>...</td>\n",
       "      <td>...</td>\n",
       "      <td>...</td>\n",
       "    </tr>\n",
       "    <tr>\n",
       "      <th>726</th>\n",
       "      <td>Spring</td>\n",
       "      <td>Dec</td>\n",
       "      <td>Sat</td>\n",
       "      <td>B</td>\n",
       "    </tr>\n",
       "    <tr>\n",
       "      <th>727</th>\n",
       "      <td>Spring</td>\n",
       "      <td>Dec</td>\n",
       "      <td>Sun</td>\n",
       "      <td>B</td>\n",
       "    </tr>\n",
       "    <tr>\n",
       "      <th>728</th>\n",
       "      <td>Spring</td>\n",
       "      <td>Dec</td>\n",
       "      <td>Mon</td>\n",
       "      <td>B</td>\n",
       "    </tr>\n",
       "    <tr>\n",
       "      <th>729</th>\n",
       "      <td>Spring</td>\n",
       "      <td>Dec</td>\n",
       "      <td>Tue</td>\n",
       "      <td>A</td>\n",
       "    </tr>\n",
       "    <tr>\n",
       "      <th>730</th>\n",
       "      <td>Spring</td>\n",
       "      <td>Dec</td>\n",
       "      <td>Wed</td>\n",
       "      <td>B</td>\n",
       "    </tr>\n",
       "  </tbody>\n",
       "</table>\n",
       "<p>730 rows × 4 columns</p>\n",
       "</div>"
      ],
      "text/plain": [
       "         season mnth weekday weathersit\n",
       "instant                                \n",
       "1        Spring  Jan     Mon          B\n",
       "2        Spring  Jan     Tue          B\n",
       "3        Spring  Jan     Wed          A\n",
       "4        Spring  Jan     Thu          A\n",
       "5        Spring  Jan     Fri          A\n",
       "...         ...  ...     ...        ...\n",
       "726      Spring  Dec     Sat          B\n",
       "727      Spring  Dec     Sun          B\n",
       "728      Spring  Dec     Mon          B\n",
       "729      Spring  Dec     Tue          A\n",
       "730      Spring  Dec     Wed          B\n",
       "\n",
       "[730 rows x 4 columns]"
      ]
     },
     "execution_count": 55,
     "metadata": {},
     "output_type": "execute_result"
    }
   ],
   "source": [
    "bikes_categorical"
   ]
  },
  {
   "cell_type": "code",
   "execution_count": 56,
   "metadata": {},
   "outputs": [],
   "source": [
    "bikes_categorical_dummies=pd.get_dummies(bikes_categorical,drop_first=True)"
   ]
  },
  {
   "cell_type": "code",
   "execution_count": 57,
   "metadata": {},
   "outputs": [
    {
     "data": {
      "text/html": [
       "<div>\n",
       "<style scoped>\n",
       "    .dataframe tbody tr th:only-of-type {\n",
       "        vertical-align: middle;\n",
       "    }\n",
       "\n",
       "    .dataframe tbody tr th {\n",
       "        vertical-align: top;\n",
       "    }\n",
       "\n",
       "    .dataframe thead th {\n",
       "        text-align: right;\n",
       "    }\n",
       "</style>\n",
       "<table border=\"1\" class=\"dataframe\">\n",
       "  <thead>\n",
       "    <tr style=\"text-align: right;\">\n",
       "      <th></th>\n",
       "      <th>season_fall</th>\n",
       "      <th>season_summer</th>\n",
       "      <th>season_winter</th>\n",
       "      <th>mnth_Aug</th>\n",
       "      <th>mnth_Dec</th>\n",
       "      <th>mnth_Feb</th>\n",
       "      <th>mnth_Jan</th>\n",
       "      <th>mnth_July</th>\n",
       "      <th>mnth_Jun</th>\n",
       "      <th>mnth_Mar</th>\n",
       "      <th>...</th>\n",
       "      <th>mnth_Oct</th>\n",
       "      <th>mnth_Sep</th>\n",
       "      <th>weekday_Mon</th>\n",
       "      <th>weekday_Sat</th>\n",
       "      <th>weekday_Sun</th>\n",
       "      <th>weekday_Thu</th>\n",
       "      <th>weekday_Tue</th>\n",
       "      <th>weekday_Wed</th>\n",
       "      <th>weathersit_B</th>\n",
       "      <th>weathersit_C</th>\n",
       "    </tr>\n",
       "    <tr>\n",
       "      <th>instant</th>\n",
       "      <th></th>\n",
       "      <th></th>\n",
       "      <th></th>\n",
       "      <th></th>\n",
       "      <th></th>\n",
       "      <th></th>\n",
       "      <th></th>\n",
       "      <th></th>\n",
       "      <th></th>\n",
       "      <th></th>\n",
       "      <th></th>\n",
       "      <th></th>\n",
       "      <th></th>\n",
       "      <th></th>\n",
       "      <th></th>\n",
       "      <th></th>\n",
       "      <th></th>\n",
       "      <th></th>\n",
       "      <th></th>\n",
       "      <th></th>\n",
       "      <th></th>\n",
       "    </tr>\n",
       "  </thead>\n",
       "  <tbody>\n",
       "    <tr>\n",
       "      <th>1</th>\n",
       "      <td>0</td>\n",
       "      <td>0</td>\n",
       "      <td>0</td>\n",
       "      <td>0</td>\n",
       "      <td>0</td>\n",
       "      <td>0</td>\n",
       "      <td>1</td>\n",
       "      <td>0</td>\n",
       "      <td>0</td>\n",
       "      <td>0</td>\n",
       "      <td>...</td>\n",
       "      <td>0</td>\n",
       "      <td>0</td>\n",
       "      <td>1</td>\n",
       "      <td>0</td>\n",
       "      <td>0</td>\n",
       "      <td>0</td>\n",
       "      <td>0</td>\n",
       "      <td>0</td>\n",
       "      <td>1</td>\n",
       "      <td>0</td>\n",
       "    </tr>\n",
       "    <tr>\n",
       "      <th>2</th>\n",
       "      <td>0</td>\n",
       "      <td>0</td>\n",
       "      <td>0</td>\n",
       "      <td>0</td>\n",
       "      <td>0</td>\n",
       "      <td>0</td>\n",
       "      <td>1</td>\n",
       "      <td>0</td>\n",
       "      <td>0</td>\n",
       "      <td>0</td>\n",
       "      <td>...</td>\n",
       "      <td>0</td>\n",
       "      <td>0</td>\n",
       "      <td>0</td>\n",
       "      <td>0</td>\n",
       "      <td>0</td>\n",
       "      <td>0</td>\n",
       "      <td>1</td>\n",
       "      <td>0</td>\n",
       "      <td>1</td>\n",
       "      <td>0</td>\n",
       "    </tr>\n",
       "    <tr>\n",
       "      <th>3</th>\n",
       "      <td>0</td>\n",
       "      <td>0</td>\n",
       "      <td>0</td>\n",
       "      <td>0</td>\n",
       "      <td>0</td>\n",
       "      <td>0</td>\n",
       "      <td>1</td>\n",
       "      <td>0</td>\n",
       "      <td>0</td>\n",
       "      <td>0</td>\n",
       "      <td>...</td>\n",
       "      <td>0</td>\n",
       "      <td>0</td>\n",
       "      <td>0</td>\n",
       "      <td>0</td>\n",
       "      <td>0</td>\n",
       "      <td>0</td>\n",
       "      <td>0</td>\n",
       "      <td>1</td>\n",
       "      <td>0</td>\n",
       "      <td>0</td>\n",
       "    </tr>\n",
       "    <tr>\n",
       "      <th>4</th>\n",
       "      <td>0</td>\n",
       "      <td>0</td>\n",
       "      <td>0</td>\n",
       "      <td>0</td>\n",
       "      <td>0</td>\n",
       "      <td>0</td>\n",
       "      <td>1</td>\n",
       "      <td>0</td>\n",
       "      <td>0</td>\n",
       "      <td>0</td>\n",
       "      <td>...</td>\n",
       "      <td>0</td>\n",
       "      <td>0</td>\n",
       "      <td>0</td>\n",
       "      <td>0</td>\n",
       "      <td>0</td>\n",
       "      <td>1</td>\n",
       "      <td>0</td>\n",
       "      <td>0</td>\n",
       "      <td>0</td>\n",
       "      <td>0</td>\n",
       "    </tr>\n",
       "    <tr>\n",
       "      <th>5</th>\n",
       "      <td>0</td>\n",
       "      <td>0</td>\n",
       "      <td>0</td>\n",
       "      <td>0</td>\n",
       "      <td>0</td>\n",
       "      <td>0</td>\n",
       "      <td>1</td>\n",
       "      <td>0</td>\n",
       "      <td>0</td>\n",
       "      <td>0</td>\n",
       "      <td>...</td>\n",
       "      <td>0</td>\n",
       "      <td>0</td>\n",
       "      <td>0</td>\n",
       "      <td>0</td>\n",
       "      <td>0</td>\n",
       "      <td>0</td>\n",
       "      <td>0</td>\n",
       "      <td>0</td>\n",
       "      <td>0</td>\n",
       "      <td>0</td>\n",
       "    </tr>\n",
       "    <tr>\n",
       "      <th>...</th>\n",
       "      <td>...</td>\n",
       "      <td>...</td>\n",
       "      <td>...</td>\n",
       "      <td>...</td>\n",
       "      <td>...</td>\n",
       "      <td>...</td>\n",
       "      <td>...</td>\n",
       "      <td>...</td>\n",
       "      <td>...</td>\n",
       "      <td>...</td>\n",
       "      <td>...</td>\n",
       "      <td>...</td>\n",
       "      <td>...</td>\n",
       "      <td>...</td>\n",
       "      <td>...</td>\n",
       "      <td>...</td>\n",
       "      <td>...</td>\n",
       "      <td>...</td>\n",
       "      <td>...</td>\n",
       "      <td>...</td>\n",
       "      <td>...</td>\n",
       "    </tr>\n",
       "    <tr>\n",
       "      <th>726</th>\n",
       "      <td>0</td>\n",
       "      <td>0</td>\n",
       "      <td>0</td>\n",
       "      <td>0</td>\n",
       "      <td>1</td>\n",
       "      <td>0</td>\n",
       "      <td>0</td>\n",
       "      <td>0</td>\n",
       "      <td>0</td>\n",
       "      <td>0</td>\n",
       "      <td>...</td>\n",
       "      <td>0</td>\n",
       "      <td>0</td>\n",
       "      <td>0</td>\n",
       "      <td>1</td>\n",
       "      <td>0</td>\n",
       "      <td>0</td>\n",
       "      <td>0</td>\n",
       "      <td>0</td>\n",
       "      <td>1</td>\n",
       "      <td>0</td>\n",
       "    </tr>\n",
       "    <tr>\n",
       "      <th>727</th>\n",
       "      <td>0</td>\n",
       "      <td>0</td>\n",
       "      <td>0</td>\n",
       "      <td>0</td>\n",
       "      <td>1</td>\n",
       "      <td>0</td>\n",
       "      <td>0</td>\n",
       "      <td>0</td>\n",
       "      <td>0</td>\n",
       "      <td>0</td>\n",
       "      <td>...</td>\n",
       "      <td>0</td>\n",
       "      <td>0</td>\n",
       "      <td>0</td>\n",
       "      <td>0</td>\n",
       "      <td>1</td>\n",
       "      <td>0</td>\n",
       "      <td>0</td>\n",
       "      <td>0</td>\n",
       "      <td>1</td>\n",
       "      <td>0</td>\n",
       "    </tr>\n",
       "    <tr>\n",
       "      <th>728</th>\n",
       "      <td>0</td>\n",
       "      <td>0</td>\n",
       "      <td>0</td>\n",
       "      <td>0</td>\n",
       "      <td>1</td>\n",
       "      <td>0</td>\n",
       "      <td>0</td>\n",
       "      <td>0</td>\n",
       "      <td>0</td>\n",
       "      <td>0</td>\n",
       "      <td>...</td>\n",
       "      <td>0</td>\n",
       "      <td>0</td>\n",
       "      <td>1</td>\n",
       "      <td>0</td>\n",
       "      <td>0</td>\n",
       "      <td>0</td>\n",
       "      <td>0</td>\n",
       "      <td>0</td>\n",
       "      <td>1</td>\n",
       "      <td>0</td>\n",
       "    </tr>\n",
       "    <tr>\n",
       "      <th>729</th>\n",
       "      <td>0</td>\n",
       "      <td>0</td>\n",
       "      <td>0</td>\n",
       "      <td>0</td>\n",
       "      <td>1</td>\n",
       "      <td>0</td>\n",
       "      <td>0</td>\n",
       "      <td>0</td>\n",
       "      <td>0</td>\n",
       "      <td>0</td>\n",
       "      <td>...</td>\n",
       "      <td>0</td>\n",
       "      <td>0</td>\n",
       "      <td>0</td>\n",
       "      <td>0</td>\n",
       "      <td>0</td>\n",
       "      <td>0</td>\n",
       "      <td>1</td>\n",
       "      <td>0</td>\n",
       "      <td>0</td>\n",
       "      <td>0</td>\n",
       "    </tr>\n",
       "    <tr>\n",
       "      <th>730</th>\n",
       "      <td>0</td>\n",
       "      <td>0</td>\n",
       "      <td>0</td>\n",
       "      <td>0</td>\n",
       "      <td>1</td>\n",
       "      <td>0</td>\n",
       "      <td>0</td>\n",
       "      <td>0</td>\n",
       "      <td>0</td>\n",
       "      <td>0</td>\n",
       "      <td>...</td>\n",
       "      <td>0</td>\n",
       "      <td>0</td>\n",
       "      <td>0</td>\n",
       "      <td>0</td>\n",
       "      <td>0</td>\n",
       "      <td>0</td>\n",
       "      <td>0</td>\n",
       "      <td>1</td>\n",
       "      <td>1</td>\n",
       "      <td>0</td>\n",
       "    </tr>\n",
       "  </tbody>\n",
       "</table>\n",
       "<p>730 rows × 22 columns</p>\n",
       "</div>"
      ],
      "text/plain": [
       "         season_fall  season_summer  season_winter  mnth_Aug  mnth_Dec  \\\n",
       "instant                                                                  \n",
       "1                  0              0              0         0         0   \n",
       "2                  0              0              0         0         0   \n",
       "3                  0              0              0         0         0   \n",
       "4                  0              0              0         0         0   \n",
       "5                  0              0              0         0         0   \n",
       "...              ...            ...            ...       ...       ...   \n",
       "726                0              0              0         0         1   \n",
       "727                0              0              0         0         1   \n",
       "728                0              0              0         0         1   \n",
       "729                0              0              0         0         1   \n",
       "730                0              0              0         0         1   \n",
       "\n",
       "         mnth_Feb  mnth_Jan  mnth_July  mnth_Jun  mnth_Mar  ...  mnth_Oct  \\\n",
       "instant                                                     ...             \n",
       "1               0         1          0         0         0  ...         0   \n",
       "2               0         1          0         0         0  ...         0   \n",
       "3               0         1          0         0         0  ...         0   \n",
       "4               0         1          0         0         0  ...         0   \n",
       "5               0         1          0         0         0  ...         0   \n",
       "...           ...       ...        ...       ...       ...  ...       ...   \n",
       "726             0         0          0         0         0  ...         0   \n",
       "727             0         0          0         0         0  ...         0   \n",
       "728             0         0          0         0         0  ...         0   \n",
       "729             0         0          0         0         0  ...         0   \n",
       "730             0         0          0         0         0  ...         0   \n",
       "\n",
       "         mnth_Sep  weekday_Mon  weekday_Sat  weekday_Sun  weekday_Thu  \\\n",
       "instant                                                                 \n",
       "1               0            1            0            0            0   \n",
       "2               0            0            0            0            0   \n",
       "3               0            0            0            0            0   \n",
       "4               0            0            0            0            1   \n",
       "5               0            0            0            0            0   \n",
       "...           ...          ...          ...          ...          ...   \n",
       "726             0            0            1            0            0   \n",
       "727             0            0            0            1            0   \n",
       "728             0            1            0            0            0   \n",
       "729             0            0            0            0            0   \n",
       "730             0            0            0            0            0   \n",
       "\n",
       "         weekday_Tue  weekday_Wed  weathersit_B  weathersit_C  \n",
       "instant                                                        \n",
       "1                  0            0             1             0  \n",
       "2                  1            0             1             0  \n",
       "3                  0            1             0             0  \n",
       "4                  0            0             0             0  \n",
       "5                  0            0             0             0  \n",
       "...              ...          ...           ...           ...  \n",
       "726                0            0             1             0  \n",
       "727                0            0             1             0  \n",
       "728                0            0             1             0  \n",
       "729                1            0             0             0  \n",
       "730                0            1             1             0  \n",
       "\n",
       "[730 rows x 22 columns]"
      ]
     },
     "execution_count": 57,
     "metadata": {},
     "output_type": "execute_result"
    }
   ],
   "source": [
    "bikes_categorical_dummies"
   ]
  },
  {
   "cell_type": "code",
   "execution_count": 58,
   "metadata": {},
   "outputs": [
    {
     "name": "stdout",
     "output_type": "stream",
     "text": [
      "<class 'pandas.core.frame.DataFrame'>\n",
      "Int64Index: 730 entries, 1 to 730\n",
      "Data columns (total 14 columns):\n",
      " #   Column      Non-Null Count  Dtype         \n",
      "---  ------      --------------  -----         \n",
      " 0   dteday      730 non-null    datetime64[ns]\n",
      " 1   season      730 non-null    object        \n",
      " 2   yr          730 non-null    int64         \n",
      " 3   mnth        730 non-null    object        \n",
      " 4   holiday     730 non-null    int64         \n",
      " 5   weekday     730 non-null    object        \n",
      " 6   workingday  730 non-null    int64         \n",
      " 7   weathersit  730 non-null    object        \n",
      " 8   temp        730 non-null    float64       \n",
      " 9   hum         730 non-null    float64       \n",
      " 10  windspeed   730 non-null    float64       \n",
      " 11  casual      730 non-null    int64         \n",
      " 12  registered  730 non-null    int64         \n",
      " 13  cnt         730 non-null    int64         \n",
      "dtypes: datetime64[ns](1), float64(3), int64(6), object(4)\n",
      "memory usage: 105.5+ KB\n"
     ]
    }
   ],
   "source": [
    "bikes.info()"
   ]
  },
  {
   "cell_type": "code",
   "execution_count": 59,
   "metadata": {},
   "outputs": [],
   "source": [
    "bikes=bikes.drop(list(bikes_categorical.columns),axis=1)"
   ]
  },
  {
   "cell_type": "code",
   "execution_count": 60,
   "metadata": {},
   "outputs": [],
   "source": [
    "bikes=pd.concat([bikes,bikes_categorical_dummies],axis=1)"
   ]
  },
  {
   "cell_type": "code",
   "execution_count": 61,
   "metadata": {},
   "outputs": [
    {
     "data": {
      "text/html": [
       "<div>\n",
       "<style scoped>\n",
       "    .dataframe tbody tr th:only-of-type {\n",
       "        vertical-align: middle;\n",
       "    }\n",
       "\n",
       "    .dataframe tbody tr th {\n",
       "        vertical-align: top;\n",
       "    }\n",
       "\n",
       "    .dataframe thead th {\n",
       "        text-align: right;\n",
       "    }\n",
       "</style>\n",
       "<table border=\"1\" class=\"dataframe\">\n",
       "  <thead>\n",
       "    <tr style=\"text-align: right;\">\n",
       "      <th></th>\n",
       "      <th>dteday</th>\n",
       "      <th>yr</th>\n",
       "      <th>holiday</th>\n",
       "      <th>workingday</th>\n",
       "      <th>temp</th>\n",
       "      <th>hum</th>\n",
       "      <th>windspeed</th>\n",
       "      <th>casual</th>\n",
       "      <th>registered</th>\n",
       "      <th>cnt</th>\n",
       "      <th>...</th>\n",
       "      <th>mnth_Oct</th>\n",
       "      <th>mnth_Sep</th>\n",
       "      <th>weekday_Mon</th>\n",
       "      <th>weekday_Sat</th>\n",
       "      <th>weekday_Sun</th>\n",
       "      <th>weekday_Thu</th>\n",
       "      <th>weekday_Tue</th>\n",
       "      <th>weekday_Wed</th>\n",
       "      <th>weathersit_B</th>\n",
       "      <th>weathersit_C</th>\n",
       "    </tr>\n",
       "    <tr>\n",
       "      <th>instant</th>\n",
       "      <th></th>\n",
       "      <th></th>\n",
       "      <th></th>\n",
       "      <th></th>\n",
       "      <th></th>\n",
       "      <th></th>\n",
       "      <th></th>\n",
       "      <th></th>\n",
       "      <th></th>\n",
       "      <th></th>\n",
       "      <th></th>\n",
       "      <th></th>\n",
       "      <th></th>\n",
       "      <th></th>\n",
       "      <th></th>\n",
       "      <th></th>\n",
       "      <th></th>\n",
       "      <th></th>\n",
       "      <th></th>\n",
       "      <th></th>\n",
       "      <th></th>\n",
       "    </tr>\n",
       "  </thead>\n",
       "  <tbody>\n",
       "    <tr>\n",
       "      <th>1</th>\n",
       "      <td>2018-01-01</td>\n",
       "      <td>0</td>\n",
       "      <td>0</td>\n",
       "      <td>0</td>\n",
       "      <td>14.110847</td>\n",
       "      <td>80.5833</td>\n",
       "      <td>10.749882</td>\n",
       "      <td>331</td>\n",
       "      <td>654</td>\n",
       "      <td>985</td>\n",
       "      <td>...</td>\n",
       "      <td>0</td>\n",
       "      <td>0</td>\n",
       "      <td>1</td>\n",
       "      <td>0</td>\n",
       "      <td>0</td>\n",
       "      <td>0</td>\n",
       "      <td>0</td>\n",
       "      <td>0</td>\n",
       "      <td>1</td>\n",
       "      <td>0</td>\n",
       "    </tr>\n",
       "    <tr>\n",
       "      <th>2</th>\n",
       "      <td>2018-02-01</td>\n",
       "      <td>0</td>\n",
       "      <td>0</td>\n",
       "      <td>0</td>\n",
       "      <td>14.902598</td>\n",
       "      <td>69.6087</td>\n",
       "      <td>16.652113</td>\n",
       "      <td>131</td>\n",
       "      <td>670</td>\n",
       "      <td>801</td>\n",
       "      <td>...</td>\n",
       "      <td>0</td>\n",
       "      <td>0</td>\n",
       "      <td>0</td>\n",
       "      <td>0</td>\n",
       "      <td>0</td>\n",
       "      <td>0</td>\n",
       "      <td>1</td>\n",
       "      <td>0</td>\n",
       "      <td>1</td>\n",
       "      <td>0</td>\n",
       "    </tr>\n",
       "    <tr>\n",
       "      <th>3</th>\n",
       "      <td>2018-03-01</td>\n",
       "      <td>0</td>\n",
       "      <td>0</td>\n",
       "      <td>1</td>\n",
       "      <td>8.050924</td>\n",
       "      <td>43.7273</td>\n",
       "      <td>16.636703</td>\n",
       "      <td>120</td>\n",
       "      <td>1229</td>\n",
       "      <td>1349</td>\n",
       "      <td>...</td>\n",
       "      <td>0</td>\n",
       "      <td>0</td>\n",
       "      <td>0</td>\n",
       "      <td>0</td>\n",
       "      <td>0</td>\n",
       "      <td>0</td>\n",
       "      <td>0</td>\n",
       "      <td>1</td>\n",
       "      <td>0</td>\n",
       "      <td>0</td>\n",
       "    </tr>\n",
       "    <tr>\n",
       "      <th>4</th>\n",
       "      <td>2018-04-01</td>\n",
       "      <td>0</td>\n",
       "      <td>0</td>\n",
       "      <td>1</td>\n",
       "      <td>8.200000</td>\n",
       "      <td>59.0435</td>\n",
       "      <td>10.739832</td>\n",
       "      <td>108</td>\n",
       "      <td>1454</td>\n",
       "      <td>1562</td>\n",
       "      <td>...</td>\n",
       "      <td>0</td>\n",
       "      <td>0</td>\n",
       "      <td>0</td>\n",
       "      <td>0</td>\n",
       "      <td>0</td>\n",
       "      <td>1</td>\n",
       "      <td>0</td>\n",
       "      <td>0</td>\n",
       "      <td>0</td>\n",
       "      <td>0</td>\n",
       "    </tr>\n",
       "    <tr>\n",
       "      <th>5</th>\n",
       "      <td>2018-05-01</td>\n",
       "      <td>0</td>\n",
       "      <td>0</td>\n",
       "      <td>1</td>\n",
       "      <td>9.305237</td>\n",
       "      <td>43.6957</td>\n",
       "      <td>12.522300</td>\n",
       "      <td>82</td>\n",
       "      <td>1518</td>\n",
       "      <td>1600</td>\n",
       "      <td>...</td>\n",
       "      <td>0</td>\n",
       "      <td>0</td>\n",
       "      <td>0</td>\n",
       "      <td>0</td>\n",
       "      <td>0</td>\n",
       "      <td>0</td>\n",
       "      <td>0</td>\n",
       "      <td>0</td>\n",
       "      <td>0</td>\n",
       "      <td>0</td>\n",
       "    </tr>\n",
       "    <tr>\n",
       "      <th>...</th>\n",
       "      <td>...</td>\n",
       "      <td>...</td>\n",
       "      <td>...</td>\n",
       "      <td>...</td>\n",
       "      <td>...</td>\n",
       "      <td>...</td>\n",
       "      <td>...</td>\n",
       "      <td>...</td>\n",
       "      <td>...</td>\n",
       "      <td>...</td>\n",
       "      <td>...</td>\n",
       "      <td>...</td>\n",
       "      <td>...</td>\n",
       "      <td>...</td>\n",
       "      <td>...</td>\n",
       "      <td>...</td>\n",
       "      <td>...</td>\n",
       "      <td>...</td>\n",
       "      <td>...</td>\n",
       "      <td>...</td>\n",
       "      <td>...</td>\n",
       "    </tr>\n",
       "    <tr>\n",
       "      <th>726</th>\n",
       "      <td>2019-12-27</td>\n",
       "      <td>1</td>\n",
       "      <td>0</td>\n",
       "      <td>1</td>\n",
       "      <td>10.420847</td>\n",
       "      <td>65.2917</td>\n",
       "      <td>23.458911</td>\n",
       "      <td>247</td>\n",
       "      <td>1867</td>\n",
       "      <td>2114</td>\n",
       "      <td>...</td>\n",
       "      <td>0</td>\n",
       "      <td>0</td>\n",
       "      <td>0</td>\n",
       "      <td>1</td>\n",
       "      <td>0</td>\n",
       "      <td>0</td>\n",
       "      <td>0</td>\n",
       "      <td>0</td>\n",
       "      <td>1</td>\n",
       "      <td>0</td>\n",
       "    </tr>\n",
       "    <tr>\n",
       "      <th>727</th>\n",
       "      <td>2019-12-28</td>\n",
       "      <td>1</td>\n",
       "      <td>0</td>\n",
       "      <td>1</td>\n",
       "      <td>10.386653</td>\n",
       "      <td>59.0000</td>\n",
       "      <td>10.416557</td>\n",
       "      <td>644</td>\n",
       "      <td>2451</td>\n",
       "      <td>3095</td>\n",
       "      <td>...</td>\n",
       "      <td>0</td>\n",
       "      <td>0</td>\n",
       "      <td>0</td>\n",
       "      <td>0</td>\n",
       "      <td>1</td>\n",
       "      <td>0</td>\n",
       "      <td>0</td>\n",
       "      <td>0</td>\n",
       "      <td>1</td>\n",
       "      <td>0</td>\n",
       "    </tr>\n",
       "    <tr>\n",
       "      <th>728</th>\n",
       "      <td>2019-12-29</td>\n",
       "      <td>1</td>\n",
       "      <td>0</td>\n",
       "      <td>0</td>\n",
       "      <td>10.386653</td>\n",
       "      <td>75.2917</td>\n",
       "      <td>8.333661</td>\n",
       "      <td>159</td>\n",
       "      <td>1182</td>\n",
       "      <td>1341</td>\n",
       "      <td>...</td>\n",
       "      <td>0</td>\n",
       "      <td>0</td>\n",
       "      <td>1</td>\n",
       "      <td>0</td>\n",
       "      <td>0</td>\n",
       "      <td>0</td>\n",
       "      <td>0</td>\n",
       "      <td>0</td>\n",
       "      <td>1</td>\n",
       "      <td>0</td>\n",
       "    </tr>\n",
       "    <tr>\n",
       "      <th>729</th>\n",
       "      <td>2019-12-30</td>\n",
       "      <td>1</td>\n",
       "      <td>0</td>\n",
       "      <td>0</td>\n",
       "      <td>10.489153</td>\n",
       "      <td>48.3333</td>\n",
       "      <td>23.500518</td>\n",
       "      <td>364</td>\n",
       "      <td>1432</td>\n",
       "      <td>1796</td>\n",
       "      <td>...</td>\n",
       "      <td>0</td>\n",
       "      <td>0</td>\n",
       "      <td>0</td>\n",
       "      <td>0</td>\n",
       "      <td>0</td>\n",
       "      <td>0</td>\n",
       "      <td>1</td>\n",
       "      <td>0</td>\n",
       "      <td>0</td>\n",
       "      <td>0</td>\n",
       "    </tr>\n",
       "    <tr>\n",
       "      <th>730</th>\n",
       "      <td>2019-12-31</td>\n",
       "      <td>1</td>\n",
       "      <td>0</td>\n",
       "      <td>1</td>\n",
       "      <td>8.849153</td>\n",
       "      <td>57.7500</td>\n",
       "      <td>10.374682</td>\n",
       "      <td>439</td>\n",
       "      <td>2290</td>\n",
       "      <td>2729</td>\n",
       "      <td>...</td>\n",
       "      <td>0</td>\n",
       "      <td>0</td>\n",
       "      <td>0</td>\n",
       "      <td>0</td>\n",
       "      <td>0</td>\n",
       "      <td>0</td>\n",
       "      <td>0</td>\n",
       "      <td>1</td>\n",
       "      <td>1</td>\n",
       "      <td>0</td>\n",
       "    </tr>\n",
       "  </tbody>\n",
       "</table>\n",
       "<p>730 rows × 32 columns</p>\n",
       "</div>"
      ],
      "text/plain": [
       "            dteday  yr  holiday  workingday       temp      hum  windspeed  \\\n",
       "instant                                                                      \n",
       "1       2018-01-01   0        0           0  14.110847  80.5833  10.749882   \n",
       "2       2018-02-01   0        0           0  14.902598  69.6087  16.652113   \n",
       "3       2018-03-01   0        0           1   8.050924  43.7273  16.636703   \n",
       "4       2018-04-01   0        0           1   8.200000  59.0435  10.739832   \n",
       "5       2018-05-01   0        0           1   9.305237  43.6957  12.522300   \n",
       "...            ...  ..      ...         ...        ...      ...        ...   \n",
       "726     2019-12-27   1        0           1  10.420847  65.2917  23.458911   \n",
       "727     2019-12-28   1        0           1  10.386653  59.0000  10.416557   \n",
       "728     2019-12-29   1        0           0  10.386653  75.2917   8.333661   \n",
       "729     2019-12-30   1        0           0  10.489153  48.3333  23.500518   \n",
       "730     2019-12-31   1        0           1   8.849153  57.7500  10.374682   \n",
       "\n",
       "         casual  registered   cnt  ...  mnth_Oct  mnth_Sep  weekday_Mon  \\\n",
       "instant                            ...                                    \n",
       "1           331         654   985  ...         0         0            1   \n",
       "2           131         670   801  ...         0         0            0   \n",
       "3           120        1229  1349  ...         0         0            0   \n",
       "4           108        1454  1562  ...         0         0            0   \n",
       "5            82        1518  1600  ...         0         0            0   \n",
       "...         ...         ...   ...  ...       ...       ...          ...   \n",
       "726         247        1867  2114  ...         0         0            0   \n",
       "727         644        2451  3095  ...         0         0            0   \n",
       "728         159        1182  1341  ...         0         0            1   \n",
       "729         364        1432  1796  ...         0         0            0   \n",
       "730         439        2290  2729  ...         0         0            0   \n",
       "\n",
       "         weekday_Sat  weekday_Sun  weekday_Thu  weekday_Tue  weekday_Wed  \\\n",
       "instant                                                                    \n",
       "1                  0            0            0            0            0   \n",
       "2                  0            0            0            1            0   \n",
       "3                  0            0            0            0            1   \n",
       "4                  0            0            1            0            0   \n",
       "5                  0            0            0            0            0   \n",
       "...              ...          ...          ...          ...          ...   \n",
       "726                1            0            0            0            0   \n",
       "727                0            1            0            0            0   \n",
       "728                0            0            0            0            0   \n",
       "729                0            0            0            1            0   \n",
       "730                0            0            0            0            1   \n",
       "\n",
       "         weathersit_B  weathersit_C  \n",
       "instant                              \n",
       "1                   1             0  \n",
       "2                   1             0  \n",
       "3                   0             0  \n",
       "4                   0             0  \n",
       "5                   0             0  \n",
       "...               ...           ...  \n",
       "726                 1             0  \n",
       "727                 1             0  \n",
       "728                 1             0  \n",
       "729                 0             0  \n",
       "730                 1             0  \n",
       "\n",
       "[730 rows x 32 columns]"
      ]
     },
     "execution_count": 61,
     "metadata": {},
     "output_type": "execute_result"
    }
   ],
   "source": [
    "bikes"
   ]
  },
  {
   "cell_type": "code",
   "execution_count": 62,
   "metadata": {},
   "outputs": [
    {
     "name": "stdout",
     "output_type": "stream",
     "text": [
      "<class 'pandas.core.frame.DataFrame'>\n",
      "Int64Index: 730 entries, 1 to 730\n",
      "Data columns (total 32 columns):\n",
      " #   Column         Non-Null Count  Dtype         \n",
      "---  ------         --------------  -----         \n",
      " 0   dteday         730 non-null    datetime64[ns]\n",
      " 1   yr             730 non-null    int64         \n",
      " 2   holiday        730 non-null    int64         \n",
      " 3   workingday     730 non-null    int64         \n",
      " 4   temp           730 non-null    float64       \n",
      " 5   hum            730 non-null    float64       \n",
      " 6   windspeed      730 non-null    float64       \n",
      " 7   casual         730 non-null    int64         \n",
      " 8   registered     730 non-null    int64         \n",
      " 9   cnt            730 non-null    int64         \n",
      " 10  season_fall    730 non-null    uint8         \n",
      " 11  season_summer  730 non-null    uint8         \n",
      " 12  season_winter  730 non-null    uint8         \n",
      " 13  mnth_Aug       730 non-null    uint8         \n",
      " 14  mnth_Dec       730 non-null    uint8         \n",
      " 15  mnth_Feb       730 non-null    uint8         \n",
      " 16  mnth_Jan       730 non-null    uint8         \n",
      " 17  mnth_July      730 non-null    uint8         \n",
      " 18  mnth_Jun       730 non-null    uint8         \n",
      " 19  mnth_Mar       730 non-null    uint8         \n",
      " 20  mnth_May       730 non-null    uint8         \n",
      " 21  mnth_Nov       730 non-null    uint8         \n",
      " 22  mnth_Oct       730 non-null    uint8         \n",
      " 23  mnth_Sep       730 non-null    uint8         \n",
      " 24  weekday_Mon    730 non-null    uint8         \n",
      " 25  weekday_Sat    730 non-null    uint8         \n",
      " 26  weekday_Sun    730 non-null    uint8         \n",
      " 27  weekday_Thu    730 non-null    uint8         \n",
      " 28  weekday_Tue    730 non-null    uint8         \n",
      " 29  weekday_Wed    730 non-null    uint8         \n",
      " 30  weathersit_B   730 non-null    uint8         \n",
      " 31  weathersit_C   730 non-null    uint8         \n",
      "dtypes: datetime64[ns](1), float64(3), int64(6), uint8(22)\n",
      "memory usage: 98.4 KB\n"
     ]
    }
   ],
   "source": [
    "bikes.info()"
   ]
  },
  {
   "cell_type": "code",
   "execution_count": 63,
   "metadata": {},
   "outputs": [],
   "source": [
    "bikes.drop(['dteday'],axis=1,inplace=True)"
   ]
  },
  {
   "cell_type": "code",
   "execution_count": 64,
   "metadata": {},
   "outputs": [
    {
     "data": {
      "text/html": [
       "<div>\n",
       "<style scoped>\n",
       "    .dataframe tbody tr th:only-of-type {\n",
       "        vertical-align: middle;\n",
       "    }\n",
       "\n",
       "    .dataframe tbody tr th {\n",
       "        vertical-align: top;\n",
       "    }\n",
       "\n",
       "    .dataframe thead th {\n",
       "        text-align: right;\n",
       "    }\n",
       "</style>\n",
       "<table border=\"1\" class=\"dataframe\">\n",
       "  <thead>\n",
       "    <tr style=\"text-align: right;\">\n",
       "      <th></th>\n",
       "      <th>yr</th>\n",
       "      <th>holiday</th>\n",
       "      <th>workingday</th>\n",
       "      <th>temp</th>\n",
       "      <th>hum</th>\n",
       "      <th>windspeed</th>\n",
       "      <th>casual</th>\n",
       "      <th>registered</th>\n",
       "      <th>cnt</th>\n",
       "      <th>season_fall</th>\n",
       "      <th>...</th>\n",
       "      <th>mnth_Oct</th>\n",
       "      <th>mnth_Sep</th>\n",
       "      <th>weekday_Mon</th>\n",
       "      <th>weekday_Sat</th>\n",
       "      <th>weekday_Sun</th>\n",
       "      <th>weekday_Thu</th>\n",
       "      <th>weekday_Tue</th>\n",
       "      <th>weekday_Wed</th>\n",
       "      <th>weathersit_B</th>\n",
       "      <th>weathersit_C</th>\n",
       "    </tr>\n",
       "    <tr>\n",
       "      <th>instant</th>\n",
       "      <th></th>\n",
       "      <th></th>\n",
       "      <th></th>\n",
       "      <th></th>\n",
       "      <th></th>\n",
       "      <th></th>\n",
       "      <th></th>\n",
       "      <th></th>\n",
       "      <th></th>\n",
       "      <th></th>\n",
       "      <th></th>\n",
       "      <th></th>\n",
       "      <th></th>\n",
       "      <th></th>\n",
       "      <th></th>\n",
       "      <th></th>\n",
       "      <th></th>\n",
       "      <th></th>\n",
       "      <th></th>\n",
       "      <th></th>\n",
       "      <th></th>\n",
       "    </tr>\n",
       "  </thead>\n",
       "  <tbody>\n",
       "    <tr>\n",
       "      <th>1</th>\n",
       "      <td>0</td>\n",
       "      <td>0</td>\n",
       "      <td>0</td>\n",
       "      <td>14.110847</td>\n",
       "      <td>80.5833</td>\n",
       "      <td>10.749882</td>\n",
       "      <td>331</td>\n",
       "      <td>654</td>\n",
       "      <td>985</td>\n",
       "      <td>0</td>\n",
       "      <td>...</td>\n",
       "      <td>0</td>\n",
       "      <td>0</td>\n",
       "      <td>1</td>\n",
       "      <td>0</td>\n",
       "      <td>0</td>\n",
       "      <td>0</td>\n",
       "      <td>0</td>\n",
       "      <td>0</td>\n",
       "      <td>1</td>\n",
       "      <td>0</td>\n",
       "    </tr>\n",
       "    <tr>\n",
       "      <th>2</th>\n",
       "      <td>0</td>\n",
       "      <td>0</td>\n",
       "      <td>0</td>\n",
       "      <td>14.902598</td>\n",
       "      <td>69.6087</td>\n",
       "      <td>16.652113</td>\n",
       "      <td>131</td>\n",
       "      <td>670</td>\n",
       "      <td>801</td>\n",
       "      <td>0</td>\n",
       "      <td>...</td>\n",
       "      <td>0</td>\n",
       "      <td>0</td>\n",
       "      <td>0</td>\n",
       "      <td>0</td>\n",
       "      <td>0</td>\n",
       "      <td>0</td>\n",
       "      <td>1</td>\n",
       "      <td>0</td>\n",
       "      <td>1</td>\n",
       "      <td>0</td>\n",
       "    </tr>\n",
       "    <tr>\n",
       "      <th>3</th>\n",
       "      <td>0</td>\n",
       "      <td>0</td>\n",
       "      <td>1</td>\n",
       "      <td>8.050924</td>\n",
       "      <td>43.7273</td>\n",
       "      <td>16.636703</td>\n",
       "      <td>120</td>\n",
       "      <td>1229</td>\n",
       "      <td>1349</td>\n",
       "      <td>0</td>\n",
       "      <td>...</td>\n",
       "      <td>0</td>\n",
       "      <td>0</td>\n",
       "      <td>0</td>\n",
       "      <td>0</td>\n",
       "      <td>0</td>\n",
       "      <td>0</td>\n",
       "      <td>0</td>\n",
       "      <td>1</td>\n",
       "      <td>0</td>\n",
       "      <td>0</td>\n",
       "    </tr>\n",
       "    <tr>\n",
       "      <th>4</th>\n",
       "      <td>0</td>\n",
       "      <td>0</td>\n",
       "      <td>1</td>\n",
       "      <td>8.200000</td>\n",
       "      <td>59.0435</td>\n",
       "      <td>10.739832</td>\n",
       "      <td>108</td>\n",
       "      <td>1454</td>\n",
       "      <td>1562</td>\n",
       "      <td>0</td>\n",
       "      <td>...</td>\n",
       "      <td>0</td>\n",
       "      <td>0</td>\n",
       "      <td>0</td>\n",
       "      <td>0</td>\n",
       "      <td>0</td>\n",
       "      <td>1</td>\n",
       "      <td>0</td>\n",
       "      <td>0</td>\n",
       "      <td>0</td>\n",
       "      <td>0</td>\n",
       "    </tr>\n",
       "    <tr>\n",
       "      <th>5</th>\n",
       "      <td>0</td>\n",
       "      <td>0</td>\n",
       "      <td>1</td>\n",
       "      <td>9.305237</td>\n",
       "      <td>43.6957</td>\n",
       "      <td>12.522300</td>\n",
       "      <td>82</td>\n",
       "      <td>1518</td>\n",
       "      <td>1600</td>\n",
       "      <td>0</td>\n",
       "      <td>...</td>\n",
       "      <td>0</td>\n",
       "      <td>0</td>\n",
       "      <td>0</td>\n",
       "      <td>0</td>\n",
       "      <td>0</td>\n",
       "      <td>0</td>\n",
       "      <td>0</td>\n",
       "      <td>0</td>\n",
       "      <td>0</td>\n",
       "      <td>0</td>\n",
       "    </tr>\n",
       "  </tbody>\n",
       "</table>\n",
       "<p>5 rows × 31 columns</p>\n",
       "</div>"
      ],
      "text/plain": [
       "         yr  holiday  workingday       temp      hum  windspeed  casual  \\\n",
       "instant                                                                   \n",
       "1         0        0           0  14.110847  80.5833  10.749882     331   \n",
       "2         0        0           0  14.902598  69.6087  16.652113     131   \n",
       "3         0        0           1   8.050924  43.7273  16.636703     120   \n",
       "4         0        0           1   8.200000  59.0435  10.739832     108   \n",
       "5         0        0           1   9.305237  43.6957  12.522300      82   \n",
       "\n",
       "         registered   cnt  season_fall  ...  mnth_Oct  mnth_Sep  weekday_Mon  \\\n",
       "instant                                 ...                                    \n",
       "1               654   985            0  ...         0         0            1   \n",
       "2               670   801            0  ...         0         0            0   \n",
       "3              1229  1349            0  ...         0         0            0   \n",
       "4              1454  1562            0  ...         0         0            0   \n",
       "5              1518  1600            0  ...         0         0            0   \n",
       "\n",
       "         weekday_Sat  weekday_Sun  weekday_Thu  weekday_Tue  weekday_Wed  \\\n",
       "instant                                                                    \n",
       "1                  0            0            0            0            0   \n",
       "2                  0            0            0            1            0   \n",
       "3                  0            0            0            0            1   \n",
       "4                  0            0            1            0            0   \n",
       "5                  0            0            0            0            0   \n",
       "\n",
       "         weathersit_B  weathersit_C  \n",
       "instant                              \n",
       "1                   1             0  \n",
       "2                   1             0  \n",
       "3                   0             0  \n",
       "4                   0             0  \n",
       "5                   0             0  \n",
       "\n",
       "[5 rows x 31 columns]"
      ]
     },
     "execution_count": 64,
     "metadata": {},
     "output_type": "execute_result"
    }
   ],
   "source": [
    "bikes.head()"
   ]
  },
  {
   "cell_type": "code",
   "execution_count": 65,
   "metadata": {},
   "outputs": [],
   "source": [
    "from sklearn.model_selection import train_test_split"
   ]
  },
  {
   "cell_type": "code",
   "execution_count": 66,
   "metadata": {},
   "outputs": [],
   "source": [
    "x=bikes.drop(\"cnt\",axis=1)\n",
    "y=bikes[\"cnt\"]"
   ]
  },
  {
   "cell_type": "code",
   "execution_count": 67,
   "metadata": {},
   "outputs": [],
   "source": [
    "x_train,x_test,y_train,y_test=train_test_split(x,y, test_size=0.3,random_state=100)"
   ]
  },
  {
   "cell_type": "code",
   "execution_count": 68,
   "metadata": {},
   "outputs": [],
   "source": [
    "from sklearn.preprocessing import MinMaxScaler"
   ]
  },
  {
   "cell_type": "code",
   "execution_count": 69,
   "metadata": {},
   "outputs": [],
   "source": [
    "scaler=MinMaxScaler()"
   ]
  },
  {
   "cell_type": "code",
   "execution_count": 72,
   "metadata": {},
   "outputs": [
    {
     "name": "stderr",
     "output_type": "stream",
     "text": [
      "<ipython-input-72-aeeb80800b32>:1: SettingWithCopyWarning: \n",
      "A value is trying to be set on a copy of a slice from a DataFrame.\n",
      "Try using .loc[row_indexer,col_indexer] = value instead\n",
      "\n",
      "See the caveats in the documentation: https://pandas.pydata.org/pandas-docs/stable/user_guide/indexing.html#returning-a-view-versus-a-copy\n",
      "  x_train[[\"temp\",\"hum\",\"windspeed\",\"casual\",\"registered\"]]=scaler.fit_transform(x_train[[\"temp\",\"hum\",\"windspeed\",\"casual\",\"registered\"]])\n",
      "C:\\Users\\Veera Bhadra Chary\\anaconda3\\lib\\site-packages\\pandas\\core\\indexing.py:1736: SettingWithCopyWarning: \n",
      "A value is trying to be set on a copy of a slice from a DataFrame.\n",
      "Try using .loc[row_indexer,col_indexer] = value instead\n",
      "\n",
      "See the caveats in the documentation: https://pandas.pydata.org/pandas-docs/stable/user_guide/indexing.html#returning-a-view-versus-a-copy\n",
      "  isetter(loc, value[:, i].tolist())\n"
     ]
    }
   ],
   "source": [
    "x_train[[\"temp\",\"hum\",\"windspeed\",\"casual\",\"registered\"]]=scaler.fit_transform(x_train[[\"temp\",\"hum\",\"windspeed\",\"casual\",\"registered\"]])"
   ]
  },
  {
   "cell_type": "code",
   "execution_count": 74,
   "metadata": {},
   "outputs": [
    {
     "name": "stderr",
     "output_type": "stream",
     "text": [
      "<ipython-input-74-01c639b45930>:1: SettingWithCopyWarning: \n",
      "A value is trying to be set on a copy of a slice from a DataFrame.\n",
      "Try using .loc[row_indexer,col_indexer] = value instead\n",
      "\n",
      "See the caveats in the documentation: https://pandas.pydata.org/pandas-docs/stable/user_guide/indexing.html#returning-a-view-versus-a-copy\n",
      "  x_test[[\"temp\",\"hum\",\"windspeed\",\"casual\",\"registered\"]]=scaler.transform(x_test[[\"temp\",\"hum\",\"windspeed\",\"casual\",\"registered\"]])\n",
      "C:\\Users\\Veera Bhadra Chary\\anaconda3\\lib\\site-packages\\pandas\\core\\indexing.py:1736: SettingWithCopyWarning: \n",
      "A value is trying to be set on a copy of a slice from a DataFrame.\n",
      "Try using .loc[row_indexer,col_indexer] = value instead\n",
      "\n",
      "See the caveats in the documentation: https://pandas.pydata.org/pandas-docs/stable/user_guide/indexing.html#returning-a-view-versus-a-copy\n",
      "  isetter(loc, value[:, i].tolist())\n"
     ]
    }
   ],
   "source": [
    "x_test[[\"temp\",\"hum\",\"windspeed\",\"casual\",\"registered\"]]=scaler.transform(x_test[[\"temp\",\"hum\",\"windspeed\",\"casual\",\"registered\"]])"
   ]
  },
  {
   "cell_type": "code",
   "execution_count": 75,
   "metadata": {},
   "outputs": [],
   "source": [
    "from sklearn.ensemble import GradientBoostingRegressor"
   ]
  },
  {
   "cell_type": "code",
   "execution_count": 76,
   "metadata": {},
   "outputs": [],
   "source": [
    "model=GradientBoostingRegressor()"
   ]
  },
  {
   "cell_type": "code",
   "execution_count": 77,
   "metadata": {},
   "outputs": [
    {
     "data": {
      "text/plain": [
       "GradientBoostingRegressor()"
      ]
     },
     "execution_count": 77,
     "metadata": {},
     "output_type": "execute_result"
    }
   ],
   "source": [
    "model.fit(x_train,y_train)"
   ]
  },
  {
   "cell_type": "code",
   "execution_count": 78,
   "metadata": {},
   "outputs": [
    {
     "data": {
      "text/plain": [
       "0.995626641655917"
      ]
     },
     "execution_count": 78,
     "metadata": {},
     "output_type": "execute_result"
    }
   ],
   "source": [
    "model.score(x_test,y_test)"
   ]
  },
  {
   "cell_type": "code",
   "execution_count": 79,
   "metadata": {},
   "outputs": [
    {
     "data": {
      "text/plain": [
       "0.9990581143947275"
      ]
     },
     "execution_count": 79,
     "metadata": {},
     "output_type": "execute_result"
    }
   ],
   "source": [
    "model.score(x_train,y_train)"
   ]
  },
  {
   "cell_type": "code",
   "execution_count": 81,
   "metadata": {},
   "outputs": [
    {
     "data": {
      "text/plain": [
       "GradientBoostingRegressor()"
      ]
     },
     "execution_count": 81,
     "metadata": {},
     "output_type": "execute_result"
    }
   ],
   "source": [
    "model"
   ]
  },
  {
   "cell_type": "code",
   "execution_count": null,
   "metadata": {},
   "outputs": [],
   "source": []
  }
 ],
 "metadata": {
  "kernelspec": {
   "display_name": "Python 3",
   "language": "python",
   "name": "python3"
  },
  "language_info": {
   "codemirror_mode": {
    "name": "ipython",
    "version": 3
   },
   "file_extension": ".py",
   "mimetype": "text/x-python",
   "name": "python",
   "nbconvert_exporter": "python",
   "pygments_lexer": "ipython3",
   "version": "3.8.5"
  }
 },
 "nbformat": 4,
 "nbformat_minor": 4
}
